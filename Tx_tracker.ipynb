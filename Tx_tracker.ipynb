{
 "cells": [
  {
   "attachments": {},
   "cell_type": "markdown",
   "metadata": {},
   "source": [
    "# Tx Tracker\n",
    "This is an Application which will display you the big transaction between CEX during the last month\n",
    "\n",
    "## 1. Imports"
   ]
  },
  {
   "cell_type": "code",
   "execution_count": null,
   "metadata": {},
   "outputs": [],
   "source": [
    "import csv\n",
    "import numpy as np\n",
    "import tweepy\n",
    "import graphviz\n",
    "import pandas as p\n",
    "from datetime import datetime"
   ]
  },
  {
   "attachments": {},
   "cell_type": "markdown",
   "metadata": {},
   "source": [
    "## 2. Settings"
   ]
  },
  {
   "cell_type": "code",
   "execution_count": null,
   "metadata": {},
   "outputs": [],
   "source": [
    "bearer_token = \"AAAAAAAAAAAAAAAAAAAAAN5SkwEAAAAAfQmavWns25LfpH6H7zolnXOhMVw%3DqmsCC0hz6DDNWd0Pr41S1G6PCnSjmgaR7jHHdIDbPjLRETp5dP\"\n",
    "username = \"whale_alert\"\n",
    "csv_file = \"Tx.csv\"\n",
    "with open(csv_file, 'w') as w_file:\n",
    "    writer = csv.writer(w_file)\n",
    "    writer.writerows([[\"date\",\"amount\",\"from\",\"to\"]])\n",
    "limit_date = \"2022-12-01\""
   ]
  },
  {
   "attachments": {},
   "cell_type": "markdown",
   "metadata": {},
   "source": [
    "## 3. Data Collection and storing in CSV\n",
    "\n",
    "- Connecting to Twitter API"
   ]
  },
  {
   "cell_type": "code",
   "execution_count": null,
   "metadata": {},
   "outputs": [],
   "source": [
    "auth = tweepy.OAuth2BearerHandler(bearer_token)\n",
    "api = tweepy.API(auth)"
   ]
  },
  {
   "attachments": {},
   "cell_type": "markdown",
   "metadata": {},
   "source": [
    "- Defining methods for different types of Tweets (i.e. transactions, minting, burning, appending to csv file)"
   ]
  },
  {
   "cell_type": "code",
   "execution_count": null,
   "metadata": {},
   "outputs": [],
   "source": [
    "def csv_append(date,amount,from_wallet,to_wallet):\n",
    "    with open(csv_file, 'a') as a_file:\n",
    "        writer_append = csv.writer(a_file)\n",
    "        writer_append.writerow([date,amount,from_wallet,to_wallet])\n",
    "\n",
    "def transaction(status):\n",
    "    date = status.created_at\n",
    "    text = status.text\n",
    "    \n",
    "    text = text.replace(\",\",\"\")\n",
    "    text = text.replace(\"#\",\"\")\n",
    "    \n",
    "    date = date.date()\n",
    "    print(text.split(\"(\")[1].split(\" USD\")[0])\n",
    "    amount = int(text.split(\"(\")[1].split(\" USD\")[0])\n",
    "    from_wallet = text.split(\"from \")[1].split(\" to\")[0]\n",
    "    to_wallet = text.split(\"to \")[1].split(\"\\n\")[0]\n",
    "\n",
    "    csv_append(date,amount,from_wallet,to_wallet)\n",
    "\n",
    "def burning(status):\n",
    "    date = status.created_at\n",
    "    text = status.text\n",
    "    \n",
    "    text = text.replace(\",\",\"\")\n",
    "    text = text.replace(\"#\",\"\")\n",
    "    \n",
    "    date = date.date()\n",
    "    amount = -int(text.split(\"(\")[1].split(\" USD\")[0])\n",
    "    from_wallet = text.split(\"at \")[1].split(\"\\n\")[0]\n",
    "    to_wallet = \"Burn\"\n",
    "\n",
    "    csv_append(date,amount,from_wallet,to_wallet)\n",
    "\n",
    "def minting(status):\n",
    "    date = status.created_at\n",
    "    text = status.text\n",
    "    \n",
    "    text = text.replace(\",\",\"\")\n",
    "    text = text.replace(\"#\",\"\")\n",
    "    \n",
    "    date = date.date()\n",
    "    amount = int(text.split(\"(\")[1].split(\" USD\")[0])\n",
    "    from_wallet = text.split(\"at \")[1].split(\"\\n\")[0]\n",
    "    to_wallet = \"Mint\"\n",
    "\n",
    "    csv_append(date,amount,from_wallet,to_wallet)"
   ]
  },
  {
   "attachments": {},
   "cell_type": "markdown",
   "metadata": {},
   "source": [
    "- Then parcours all the tweets of the account until a date time and writing data in csv file"
   ]
  },
  {
   "cell_type": "code",
   "execution_count": null,
   "metadata": {},
   "outputs": [
    {
     "name": "stdout",
     "output_type": "stream",
     "text": [
      "131315630\n",
      "72700696\n",
      "89114837\n",
      "55796354\n",
      "50038409\n",
      "55805949\n",
      "87492534\n",
      "72360450\n",
      "18905237\n",
      "10771501\n",
      "14500097\n",
      "25239000\n",
      "83765019\n",
      "83370401\n",
      "39650226\n",
      "200046953\n",
      "119486237\n",
      "294992639\n",
      "33599237\n",
      "21851237\n",
      "20749355\n",
      "149967023\n",
      "149885626\n",
      "267782707\n",
      "251200910\n",
      "14208884\n",
      "25454673\n",
      "25946734\n",
      "100185985\n",
      "25650667\n",
      "100111000\n",
      "100049927\n",
      "100040000\n",
      "25041348\n",
      "63458376\n",
      "40221539\n",
      "46252626\n",
      "38830768\n",
      "20030082\n",
      "12158859\n",
      "14512186\n",
      "6283434\n",
      "289447487\n",
      "21787248\n",
      "100003402\n",
      "23708060\n",
      "100044458\n",
      "21830875\n",
      "85029890\n",
      "100200000\n",
      "299970000\n",
      "22111028\n",
      "99993000\n",
      "15322247\n",
      "21104579\n",
      "101046577\n",
      "135852577\n",
      "20606697\n",
      "25888712\n",
      "10539408\n",
      "10570405\n",
      "63971393\n",
      "60111787\n",
      "60238579\n",
      "60054994\n",
      "16787841\n",
      "5131744\n",
      "38870101\n",
      "39407159\n",
      "25684853\n",
      "34385531\n",
      "5284242\n",
      "5252500\n",
      "26887649\n",
      "88879999\n",
      "88879999\n",
      "99989985\n",
      "50928019\n",
      "25901133\n",
      "88879999\n",
      "88879999\n",
      "100038048\n",
      "103264033\n",
      "220699500\n",
      "99995000\n",
      "219944010\n",
      "99995000\n",
      "249522375\n",
      "55401662\n",
      "39122083\n",
      "65533398\n",
      "165166328\n",
      "5716200\n",
      "16200942\n",
      "88896938\n",
      "88896938\n",
      "12409202\n",
      "13650123\n",
      "100023933\n",
      "88843065\n",
      "88843065\n",
      "100082000\n",
      "86878313\n",
      "199942814\n",
      "37793731\n",
      "99980000\n"
     ]
    },
    {
     "ename": "IndexError",
     "evalue": "list index out of range",
     "output_type": "error",
     "traceback": [
      "\u001b[1;31m---------------------------------------------------------------------------\u001b[0m",
      "\u001b[1;31mIndexError\u001b[0m                                Traceback (most recent call last)",
      "\u001b[1;32m~\\AppData\\Local\\Temp/ipykernel_14212/677812974.py\u001b[0m in \u001b[0;36m<module>\u001b[1;34m\u001b[0m\n\u001b[0;32m      1\u001b[0m \u001b[1;32mfor\u001b[0m \u001b[0mstatus\u001b[0m \u001b[1;32min\u001b[0m \u001b[0mtweepy\u001b[0m\u001b[1;33m.\u001b[0m\u001b[0mCursor\u001b[0m\u001b[1;33m(\u001b[0m\u001b[0mapi\u001b[0m\u001b[1;33m.\u001b[0m\u001b[0muser_timeline\u001b[0m\u001b[1;33m,\u001b[0m \u001b[0mscreen_name\u001b[0m\u001b[1;33m=\u001b[0m\u001b[0musername\u001b[0m\u001b[1;33m)\u001b[0m\u001b[1;33m.\u001b[0m\u001b[0mitems\u001b[0m\u001b[1;33m(\u001b[0m\u001b[1;33m)\u001b[0m\u001b[1;33m:\u001b[0m\u001b[1;33m\u001b[0m\u001b[1;33m\u001b[0m\u001b[0m\n\u001b[0;32m      2\u001b[0m     \u001b[1;32mif\u001b[0m\u001b[1;33m(\u001b[0m\u001b[0mstatus\u001b[0m\u001b[1;33m.\u001b[0m\u001b[0mtext\u001b[0m\u001b[1;33m[\u001b[0m\u001b[1;36m0\u001b[0m\u001b[1;33m]\u001b[0m \u001b[1;33m==\u001b[0m \u001b[1;34m\"🚨\"\u001b[0m\u001b[1;33m)\u001b[0m\u001b[1;33m:\u001b[0m\u001b[1;33m\u001b[0m\u001b[1;33m\u001b[0m\u001b[0m\n\u001b[1;32m----> 3\u001b[1;33m         \u001b[0mtransaction\u001b[0m\u001b[1;33m(\u001b[0m\u001b[0mstatus\u001b[0m\u001b[1;33m)\u001b[0m\u001b[1;33m\u001b[0m\u001b[1;33m\u001b[0m\u001b[0m\n\u001b[0m\u001b[0;32m      4\u001b[0m     \u001b[1;32mif\u001b[0m\u001b[1;33m(\u001b[0m\u001b[0mstatus\u001b[0m\u001b[1;33m.\u001b[0m\u001b[0mtext\u001b[0m\u001b[1;33m[\u001b[0m\u001b[1;36m0\u001b[0m\u001b[1;33m]\u001b[0m \u001b[1;33m==\u001b[0m \u001b[1;34m\"💵\"\u001b[0m\u001b[1;33m)\u001b[0m\u001b[1;33m:\u001b[0m\u001b[1;33m\u001b[0m\u001b[1;33m\u001b[0m\u001b[0m\n\u001b[0;32m      5\u001b[0m         \u001b[0mminting\u001b[0m\u001b[1;33m(\u001b[0m\u001b[0mstatus\u001b[0m\u001b[1;33m)\u001b[0m\u001b[1;33m\u001b[0m\u001b[1;33m\u001b[0m\u001b[0m\n",
      "\u001b[1;32m~\\AppData\\Local\\Temp/ipykernel_14212/3112685459.py\u001b[0m in \u001b[0;36mtransaction\u001b[1;34m(status)\u001b[0m\n\u001b[0;32m     12\u001b[0m \u001b[1;33m\u001b[0m\u001b[0m\n\u001b[0;32m     13\u001b[0m     \u001b[0mdate\u001b[0m \u001b[1;33m=\u001b[0m \u001b[0mdate\u001b[0m\u001b[1;33m.\u001b[0m\u001b[0mdate\u001b[0m\u001b[1;33m(\u001b[0m\u001b[1;33m)\u001b[0m\u001b[1;33m\u001b[0m\u001b[1;33m\u001b[0m\u001b[0m\n\u001b[1;32m---> 14\u001b[1;33m     \u001b[0mprint\u001b[0m\u001b[1;33m(\u001b[0m\u001b[0mtext\u001b[0m\u001b[1;33m.\u001b[0m\u001b[0msplit\u001b[0m\u001b[1;33m(\u001b[0m\u001b[1;34m\"(\"\u001b[0m\u001b[1;33m)\u001b[0m\u001b[1;33m[\u001b[0m\u001b[1;36m1\u001b[0m\u001b[1;33m]\u001b[0m\u001b[1;33m.\u001b[0m\u001b[0msplit\u001b[0m\u001b[1;33m(\u001b[0m\u001b[1;34m\" USD\"\u001b[0m\u001b[1;33m)\u001b[0m\u001b[1;33m[\u001b[0m\u001b[1;36m0\u001b[0m\u001b[1;33m]\u001b[0m\u001b[1;33m)\u001b[0m\u001b[1;33m\u001b[0m\u001b[1;33m\u001b[0m\u001b[0m\n\u001b[0m\u001b[0;32m     15\u001b[0m     \u001b[0mamount\u001b[0m \u001b[1;33m=\u001b[0m \u001b[0mint\u001b[0m\u001b[1;33m(\u001b[0m\u001b[0mtext\u001b[0m\u001b[1;33m.\u001b[0m\u001b[0msplit\u001b[0m\u001b[1;33m(\u001b[0m\u001b[1;34m\"(\"\u001b[0m\u001b[1;33m)\u001b[0m\u001b[1;33m[\u001b[0m\u001b[1;36m1\u001b[0m\u001b[1;33m]\u001b[0m\u001b[1;33m.\u001b[0m\u001b[0msplit\u001b[0m\u001b[1;33m(\u001b[0m\u001b[1;34m\" USD\"\u001b[0m\u001b[1;33m)\u001b[0m\u001b[1;33m[\u001b[0m\u001b[1;36m0\u001b[0m\u001b[1;33m]\u001b[0m\u001b[1;33m)\u001b[0m\u001b[1;33m\u001b[0m\u001b[1;33m\u001b[0m\u001b[0m\n\u001b[0;32m     16\u001b[0m     \u001b[0mfrom_wallet\u001b[0m \u001b[1;33m=\u001b[0m \u001b[0mtext\u001b[0m\u001b[1;33m.\u001b[0m\u001b[0msplit\u001b[0m\u001b[1;33m(\u001b[0m\u001b[1;34m\"from \"\u001b[0m\u001b[1;33m)\u001b[0m\u001b[1;33m[\u001b[0m\u001b[1;36m1\u001b[0m\u001b[1;33m]\u001b[0m\u001b[1;33m.\u001b[0m\u001b[0msplit\u001b[0m\u001b[1;33m(\u001b[0m\u001b[1;34m\" to\"\u001b[0m\u001b[1;33m)\u001b[0m\u001b[1;33m[\u001b[0m\u001b[1;36m0\u001b[0m\u001b[1;33m]\u001b[0m\u001b[1;33m\u001b[0m\u001b[1;33m\u001b[0m\u001b[0m\n",
      "\u001b[1;31mIndexError\u001b[0m: list index out of range"
     ]
    }
   ],
   "source": [
    "for status in tweepy.Cursor(api.user_timeline, screen_name=username).items():\n",
    "    if(status.text[0] == \"🚨\"):\n",
    "        transaction(status)\n",
    "    if(status.text[0] == \"💵\"):\n",
    "        minting(status)\n",
    "    if(status.text[0] == \"🔥\"):\n",
    "        burning(status)\n",
    "# # https://docs.tweepy.org/en/stable/api.html#tweepy.API.user_timeline"
   ]
  },
  {
   "attachments": {},
   "cell_type": "markdown",
   "metadata": {},
   "source": [
    "## 4. Data Analyze\n",
    "\n",
    "- Extract all exchange"
   ]
  },
  {
   "cell_type": "code",
   "execution_count": null,
   "metadata": {},
   "outputs": [],
   "source": [
    "dot = graphviz.Digraph(comment='Tx tracker')\n",
    "dot_style = {'color' : '#E63946', 'style' : 'filled', 'shape' : 'circle', 'width' : '1.5'}\n",
    "\n",
    "def create_node(db):\n",
    "    for i in db.index:\n",
    "        name = db[\"from\"][i]\n",
    "        amount = int(db[\"amount\"][i]/10**6)\n",
    "        if(len(name) < 4):\n",
    "            tag = name\n",
    "        else:\n",
    "            tag = name[:4]\n",
    "        if(len(name.split()) > 2):\n",
    "            name = name.split()[:2]\n",
    "            name = name[0] + \" \" + name[1]\n",
    "        dot.node(tag.lower(),name+\"\\n\"+str(amount)+\"M $\",dot_style)\n",
    "\n",
    "def create_db(db):\n",
    "    burn_mint_db = db[db['to'] == \"Burn\"]\n",
    "    burn_mint_db = burn_mint_db.append(db[db['to'] == \"Mint\"])\n",
    "    burn_mint_db = burn_mint_db[burn_mint_db['from'] != \"unknown wallet\"]\n",
    "    burn_mint_db = burn_mint_db.groupby([\"from\"])['amount'].sum().reset_index()\n",
    "\n",
    "    tx_db = db[db['to'] != \"Mint\"]\n",
    "    tx_db = tx_db[tx_db['to'] != \"Burn\"]\n",
    "    tx_db = tx_db.groupby([\"from\",\"to\"])['amount'].sum().reset_index()\n",
    "\n",
    "    return burn_mint_db,tx_db\n",
    "\n",
    "def create_earning_db(burn_mint_db,tx_db):\n",
    "    from_db = tx_db.groupby([\"from\"])['amount'].sum().reset_index()\n",
    "    to_db = tx_db.groupby([\"to\"])['amount'].sum().reset_index().rename(columns = {\"to\" : \"from\"})\n",
    "    tx_sum_db = p.merge(from_db, to_db, on='from',how='outer')\n",
    "    tx_sum_db = tx_sum_db.fillna(0)\n",
    "    tx_sum_db.amount_x = tx_sum_db.amount_x.astype(int)\n",
    "    tx_sum_db.amount_y = tx_sum_db.amount_y.astype(int)\n",
    "    tx_sum_db['amount'] = tx_sum_db['amount_y'] - tx_sum_db['amount_x']\n",
    "    tx_sum_db = tx_sum_db.drop(columns=['amount_x', 'amount_y'])\n",
    "    tx_sum_db = p.merge(tx_sum_db, burn_mint_db, on='from',how='outer')\n",
    "    tx_sum_db = tx_sum_db.fillna(0)\n",
    "    tx_sum_db.amount_x = tx_sum_db.amount_x.astype(int)\n",
    "    tx_sum_db.amount_y = tx_sum_db.amount_y.astype(int)\n",
    "    tx_sum_db['amount'] = tx_sum_db['amount_y'] + tx_sum_db['amount_x']\n",
    "    tx_sum_db = tx_sum_db.drop(columns=['amount_x', 'amount_y'])\n",
    "    return tx_sum_db"
   ]
  },
  {
   "cell_type": "code",
   "execution_count": null,
   "metadata": {},
   "outputs": [],
   "source": [
    "db = p.read_csv(csv_file)\n",
    "db = db[db['date'] >= limit_date]\n",
    "\n",
    "burn_mint_db,tx_db = create_db(db)\n",
    "total_earning_db = create_earning_db(burn_mint_db,tx_db)\n",
    "create_node(total_earning_db)\n",
    "\n",
    "for ind in tx_db.index:\n",
    "    name_from = tx_db['from'][ind]\n",
    "    name_to = tx_db['to'][ind]\n",
    "    if(len(name_from) < 4):\n",
    "        tag_from = name_from\n",
    "    else:\n",
    "        tag_from = name_from[:4]\n",
    "    if(len(name_to) < 4):\n",
    "        tag_to = name_to\n",
    "    else:\n",
    "        tag_to = name_to[:4]\n",
    "    tx_amount = int(tx_db['amount'][ind] / 10**6)\n",
    "    dot.edge(tag_from.lower(),tag_to.lower(),label = str(tx_amount)+\"M $\",color = \"grey\",style=\"dashed\")\n",
    "\n",
    "for ind in burn_mint_db.index:\n",
    "    name_from = burn_mint_db['from'][ind]\n",
    "    if(len(name_from) < 4):\n",
    "        tag_from = name_from\n",
    "    else:\n",
    "        tag_from = name_from[:4]\n",
    "    tx_amount = int(burn_mint_db['amount'][ind] / 10**6)\n",
    "    dot.edge(tag_from.lower(),tag_from.lower(),label = str(tx_amount)+\"M $\",color = \"grey\",style=\"dashed\")\n"
   ]
  },
  {
   "attachments": {},
   "cell_type": "markdown",
   "metadata": {},
   "source": [
    "- Represent them in a graph"
   ]
  },
  {
   "cell_type": "code",
   "execution_count": null,
   "metadata": {},
   "outputs": [
    {
     "data": {
      "image/svg+xml": "<?xml version=\"1.0\" encoding=\"UTF-8\" standalone=\"no\"?>\n<!DOCTYPE svg PUBLIC \"-//W3C//DTD SVG 1.1//EN\"\n \"http://www.w3.org/Graphics/SVG/1.1/DTD/svg11.dtd\">\n<!-- Generated by graphviz version 7.0.5 (20221223.1930)\n -->\n<!-- Pages: 1 -->\n<svg width=\"2731pt\" height=\"1270pt\"\n viewBox=\"0.00 0.00 2730.63 1270.16\" xmlns=\"http://www.w3.org/2000/svg\" xmlns:xlink=\"http://www.w3.org/1999/xlink\">\n<g id=\"graph0\" class=\"graph\" transform=\"scale(1 1) rotate(0) translate(4 1266.16)\">\n<polygon fill=\"white\" stroke=\"none\" points=\"-4,4 -4,-1266.16 2726.63,-1266.16 2726.63,4 -4,4\"/>\n<!-- aave -->\n<g id=\"node1\" class=\"node\">\n<title>aave</title>\n<ellipse fill=\"#e63946\" stroke=\"#e63946\" cx=\"1030\" cy=\"-1032.22\" rx=\"54\" ry=\"54\"/>\n<text text-anchor=\"middle\" x=\"1030\" y=\"-1036.02\" font-family=\"Times New Roman,serif\" font-size=\"14.00\">Aave</text>\n<text text-anchor=\"middle\" x=\"1030\" y=\"-1021.02\" font-family=\"Times New Roman,serif\" font-size=\"14.00\">&#45;15M $</text>\n</g>\n<!-- unkn -->\n<g id=\"node33\" class=\"node\">\n<title>unkn</title>\n<ellipse fill=\"#e63946\" stroke=\"#e63946\" cx=\"1081\" cy=\"-861.57\" rx=\"55.04\" ry=\"55.04\"/>\n<text text-anchor=\"middle\" x=\"1081\" y=\"-865.37\" font-family=\"Times New Roman,serif\" font-size=\"14.00\">unknown wallet</text>\n<text text-anchor=\"middle\" x=\"1081\" y=\"-850.37\" font-family=\"Times New Roman,serif\" font-size=\"14.00\">0M $</text>\n</g>\n<!-- aave&#45;&gt;unkn -->\n<g id=\"edge1\" class=\"edge\">\n<title>aave&#45;&gt;unkn</title>\n<path fill=\"none\" stroke=\"grey\" stroke-dasharray=\"5,2\" d=\"M1013.15,-980.48C1010.63,-965.36 1010.46,-948.98 1016,-934.59 1019.81,-924.67 1025.69,-915.27 1032.39,-906.73\"/>\n<polygon fill=\"grey\" stroke=\"grey\" points=\"1034.87,-909.21 1038.64,-899.31 1029.52,-904.7 1034.87,-909.21\"/>\n<text text-anchor=\"middle\" x=\"1034.5\" y=\"-938.39\" font-family=\"Times New Roman,serif\" font-size=\"14.00\">22M $</text>\n</g>\n<!-- alam -->\n<g id=\"node2\" class=\"node\">\n<title>alam</title>\n<ellipse fill=\"#e63946\" stroke=\"#e63946\" cx=\"2658\" cy=\"-1032.22\" rx=\"64.77\" ry=\"64.77\"/>\n<text text-anchor=\"middle\" x=\"2658\" y=\"-1036.02\" font-family=\"Times New Roman,serif\" font-size=\"14.00\">Alameda Research</text>\n<text text-anchor=\"middle\" x=\"2658\" y=\"-1021.02\" font-family=\"Times New Roman,serif\" font-size=\"14.00\">0M $</text>\n</g>\n<!-- alam&#45;&gt;unkn -->\n<g id=\"edge2\" class=\"edge\">\n<title>alam&#45;&gt;unkn</title>\n<path fill=\"none\" stroke=\"grey\" stroke-dasharray=\"5,2\" d=\"M2593.24,-1024.29C2338.23,-997.02 1404.74,-897.19 1147.2,-869.65\"/>\n<polygon fill=\"grey\" stroke=\"grey\" points=\"1147.63,-866.17 1137.31,-868.59 1146.88,-873.13 1147.63,-866.17\"/>\n<text text-anchor=\"middle\" x=\"1884\" y=\"-938.39\" font-family=\"Times New Roman,serif\" font-size=\"14.00\">9M $</text>\n</g>\n<!-- arbi -->\n<g id=\"node3\" class=\"node\">\n<title>arbi</title>\n<ellipse fill=\"#e63946\" stroke=\"#e63946\" cx=\"1242\" cy=\"-1032.22\" rx=\"54\" ry=\"54\"/>\n<text text-anchor=\"middle\" x=\"1242\" y=\"-1036.02\" font-family=\"Times New Roman,serif\" font-size=\"14.00\">Arbitrum</text>\n<text text-anchor=\"middle\" x=\"1242\" y=\"-1021.02\" font-family=\"Times New Roman,serif\" font-size=\"14.00\">&#45;110M $</text>\n</g>\n<!-- arbi&#45;&gt;unkn -->\n<g id=\"edge3\" class=\"edge\">\n<title>arbi&#45;&gt;unkn</title>\n<path fill=\"none\" stroke=\"grey\" stroke-dasharray=\"5,2\" d=\"M1205.06,-992.53C1181.69,-968.04 1151.31,-936.22 1126.46,-910.19\"/>\n<polygon fill=\"grey\" stroke=\"grey\" points=\"1129.08,-907.87 1119.65,-903.05 1124.02,-912.7 1129.08,-907.87\"/>\n<text text-anchor=\"middle\" x=\"1183.5\" y=\"-938.39\" font-family=\"Times New Roman,serif\" font-size=\"14.00\">110M $</text>\n</g>\n<!-- axie -->\n<g id=\"node4\" class=\"node\">\n<title>axie</title>\n<ellipse fill=\"#e63946\" stroke=\"#e63946\" cx=\"2087\" cy=\"-698.4\" rx=\"54\" ry=\"54\"/>\n<text text-anchor=\"middle\" x=\"2087\" y=\"-702.2\" font-family=\"Times New Roman,serif\" font-size=\"14.00\">Axie Infinity</text>\n<text text-anchor=\"middle\" x=\"2087\" y=\"-687.2\" font-family=\"Times New Roman,serif\" font-size=\"14.00\">7M $</text>\n</g>\n<!-- axie&#45;&gt;unkn -->\n<g id=\"edge4\" class=\"edge\">\n<title>axie&#45;&gt;unkn</title>\n<path fill=\"none\" stroke=\"grey\" stroke-dasharray=\"5,2\" d=\"M2049.5,-737.82C2041.57,-744.45 2032.9,-750.75 2024,-755.55 1974.2,-782.44 1956.74,-778.7 1901,-788.55 1623.81,-837.52 1287.75,-853.77 1147.49,-858.66\"/>\n<polygon fill=\"grey\" stroke=\"grey\" points=\"1147.52,-855.15 1137.64,-858.99 1147.76,-862.15 1147.52,-855.15\"/>\n<text text-anchor=\"middle\" x=\"1996\" y=\"-777.35\" font-family=\"Times New Roman,serif\" font-size=\"14.00\">6M $</text>\n</g>\n<!-- bina -->\n<g id=\"node5\" class=\"node\">\n<title>bina</title>\n<ellipse fill=\"#e63946\" stroke=\"#e63946\" cx=\"625\" cy=\"-536.24\" rx=\"54\" ry=\"54\"/>\n<text text-anchor=\"middle\" x=\"625\" y=\"-540.04\" font-family=\"Times New Roman,serif\" font-size=\"14.00\">BinanceUS</text>\n<text text-anchor=\"middle\" x=\"625\" y=\"-525.04\" font-family=\"Times New Roman,serif\" font-size=\"14.00\">258M $</text>\n</g>\n<!-- bina&#45;&gt;bina -->\n<g id=\"edge11\" class=\"edge\">\n<title>bina&#45;&gt;bina</title>\n<path fill=\"none\" stroke=\"grey\" stroke-dasharray=\"5,2\" d=\"M679.01,-543.36C689.53,-542.54 697,-540.16 697,-536.24 697,-533.97 694.5,-532.22 690.36,-530.99\"/>\n<polygon fill=\"grey\" stroke=\"grey\" points=\"690.94,-527.54 680.5,-529.37 689.8,-534.45 690.94,-527.54\"/>\n<text text-anchor=\"middle\" x=\"712\" y=\"-532.54\" font-family=\"Times New Roman,serif\" font-size=\"14.00\">9M $</text>\n</g>\n<!-- bina&#45;&gt;bina -->\n<g id=\"edge84\" class=\"edge\">\n<title>bina&#45;&gt;bina</title>\n<path fill=\"none\" stroke=\"grey\" stroke-dasharray=\"5,2\" d=\"M677.36,-550.82C703.26,-552.51 727,-547.65 727,-536.24 727,-526.52 709.78,-521.56 688.68,-521.34\"/>\n<polygon fill=\"grey\" stroke=\"grey\" points=\"688.77,-517.84 678.88,-521.62 688.97,-524.84 688.77,-517.84\"/>\n<text text-anchor=\"middle\" x=\"751\" y=\"-532.54\" font-family=\"Times New Roman,serif\" font-size=\"14.00\">&#45;616M $</text>\n</g>\n<!-- coin -->\n<g id=\"node11\" class=\"node\">\n<title>coin</title>\n<ellipse fill=\"#e63946\" stroke=\"#e63946\" cx=\"2376\" cy=\"-374.62\" rx=\"54\" ry=\"54\"/>\n<text text-anchor=\"middle\" x=\"2376\" y=\"-378.42\" font-family=\"Times New Roman,serif\" font-size=\"14.00\">Coinbene</text>\n<text text-anchor=\"middle\" x=\"2376\" y=\"-363.42\" font-family=\"Times New Roman,serif\" font-size=\"14.00\">&#45;25M $</text>\n</g>\n<!-- bina&#45;&gt;coin -->\n<g id=\"edge5\" class=\"edge\">\n<title>bina&#45;&gt;coin</title>\n<path fill=\"none\" stroke=\"grey\" stroke-dasharray=\"5,2\" d=\"M678.75,-527.57C766.78,-515.4 947.28,-492.02 1101,-482.24 1162.94,-478.3 2158.65,-482.4 2218,-464.24 2229.67,-460.67 2230.52,-455.5 2241,-449.24 2265.97,-434.32 2294.13,-418.77 2318.25,-405.83\"/>\n<polygon fill=\"grey\" stroke=\"grey\" points=\"2319.81,-408.96 2326.98,-401.16 2316.51,-402.78 2319.81,-408.96\"/>\n<text text-anchor=\"middle\" x=\"2259.5\" y=\"-453.04\" font-family=\"Times New Roman,serif\" font-size=\"14.00\">58M $</text>\n</g>\n<!-- just -->\n<g id=\"node17\" class=\"node\">\n<title>just</title>\n<ellipse fill=\"#e63946\" stroke=\"#e63946\" cx=\"200\" cy=\"-374.62\" rx=\"54\" ry=\"54\"/>\n<text text-anchor=\"middle\" x=\"200\" y=\"-378.42\" font-family=\"Times New Roman,serif\" font-size=\"14.00\">Justin Sun</text>\n<text text-anchor=\"middle\" x=\"200\" y=\"-363.42\" font-family=\"Times New Roman,serif\" font-size=\"14.00\">&#45;281M $</text>\n</g>\n<!-- bina&#45;&gt;just -->\n<g id=\"edge6\" class=\"edge\">\n<title>bina&#45;&gt;just</title>\n<path fill=\"none\" stroke=\"grey\" stroke-dasharray=\"5,2\" d=\"M571.64,-525.88C517.48,-515.23 432.03,-495.17 363,-464.24 351.86,-459.25 350.52,-455.42 340,-449.24 313.67,-433.78 283.81,-417.86 258.44,-404.8\"/>\n<polygon fill=\"grey\" stroke=\"grey\" points=\"260.08,-401.71 249.58,-400.26 256.89,-407.94 260.08,-401.71\"/>\n<text text-anchor=\"middle\" x=\"384.5\" y=\"-453.04\" font-family=\"Times New Roman,serif\" font-size=\"14.00\">153M $</text>\n</g>\n<!-- paxo -->\n<g id=\"node22\" class=\"node\">\n<title>paxo</title>\n<ellipse fill=\"#e63946\" stroke=\"#e63946\" cx=\"524\" cy=\"-374.62\" rx=\"55.6\" ry=\"55.6\"/>\n<text text-anchor=\"middle\" x=\"524\" y=\"-378.42\" font-family=\"Times New Roman,serif\" font-size=\"14.00\">Paxos Treasury</text>\n<text text-anchor=\"middle\" x=\"524\" y=\"-363.42\" font-family=\"Times New Roman,serif\" font-size=\"14.00\">&#45;2147M $</text>\n</g>\n<!-- bina&#45;&gt;paxo -->\n<g id=\"edge7\" class=\"edge\">\n<title>bina&#45;&gt;paxo</title>\n<path fill=\"none\" stroke=\"grey\" stroke-dasharray=\"5,2\" d=\"M575.06,-514.54C554.07,-503.05 531.82,-486.49 520,-464.24 516.13,-456.95 514.05,-448.82 513.19,-440.53\"/>\n<polygon fill=\"grey\" stroke=\"grey\" points=\"516.7,-440.54 512.78,-430.7 509.7,-440.83 516.7,-440.54\"/>\n<text text-anchor=\"middle\" x=\"545\" y=\"-453.04\" font-family=\"Times New Roman,serif\" font-size=\"14.00\">2500M $</text>\n</g>\n<!-- teth -->\n<g id=\"node28\" class=\"node\">\n<title>teth</title>\n<ellipse fill=\"#e63946\" stroke=\"#e63946\" cx=\"1123\" cy=\"-374.62\" rx=\"56.74\" ry=\"56.74\"/>\n<text text-anchor=\"middle\" x=\"1123\" y=\"-378.42\" font-family=\"Times New Roman,serif\" font-size=\"14.00\">Tether Treasury</text>\n<text text-anchor=\"middle\" x=\"1123\" y=\"-363.42\" font-family=\"Times New Roman,serif\" font-size=\"14.00\">0M $</text>\n</g>\n<!-- bina&#45;&gt;teth -->\n<g id=\"edge8\" class=\"edge\">\n<title>bina&#45;&gt;teth</title>\n<path fill=\"none\" stroke=\"grey\" stroke-dasharray=\"5,2\" d=\"M676.42,-518.76C767.68,-489.51 957.77,-428.58 1057.97,-396.46\"/>\n<polygon fill=\"grey\" stroke=\"grey\" points=\"1058.95,-399.82 1067.41,-393.44 1056.82,-393.16 1058.95,-399.82\"/>\n<text text-anchor=\"middle\" x=\"914\" y=\"-453.04\" font-family=\"Times New Roman,serif\" font-size=\"14.00\">3247M $</text>\n</g>\n<!-- tron -->\n<g id=\"node29\" class=\"node\">\n<title>tron</title>\n<ellipse fill=\"#e63946\" stroke=\"#e63946\" cx=\"731\" cy=\"-374.62\" rx=\"54\" ry=\"54\"/>\n<text text-anchor=\"middle\" x=\"731\" y=\"-378.42\" font-family=\"Times New Roman,serif\" font-size=\"14.00\">TronDAO</text>\n<text text-anchor=\"middle\" x=\"731\" y=\"-363.42\" font-family=\"Times New Roman,serif\" font-size=\"14.00\">&#45;330M $</text>\n</g>\n<!-- bina&#45;&gt;tron -->\n<g id=\"edge9\" class=\"edge\">\n<title>bina&#45;&gt;tron</title>\n<path fill=\"none\" stroke=\"grey\" stroke-dasharray=\"5,2\" d=\"M669.77,-506C684.2,-494.55 699.02,-480.3 709,-464.24 713.76,-456.58 717.49,-447.96 720.42,-439.16\"/>\n<polygon fill=\"grey\" stroke=\"grey\" points=\"723.69,-440.45 723.17,-429.87 716.97,-438.46 723.69,-440.45\"/>\n<text text-anchor=\"middle\" x=\"734.5\" y=\"-453.04\" font-family=\"Times New Roman,serif\" font-size=\"14.00\">50M $</text>\n</g>\n<!-- bina&#45;&gt;unkn -->\n<g id=\"edge10\" class=\"edge\">\n<title>bina&#45;&gt;unkn</title>\n<path fill=\"none\" stroke=\"grey\" stroke-dasharray=\"5,2\" d=\"M650.96,-583.96C660.34,-601.65 670.66,-622.13 679,-641.24 707.11,-705.63 714.48,-770.75 739,-788.55 782.29,-819.98 928.2,-842.28 1014.83,-853.12\"/>\n<polygon fill=\"grey\" stroke=\"grey\" points=\"1014.27,-856.57 1024.62,-854.32 1015.12,-849.63 1014.27,-856.57\"/>\n<text text-anchor=\"middle\" x=\"744\" y=\"-694.7\" font-family=\"Times New Roman,serif\" font-size=\"14.00\">7419M $</text>\n</g>\n<!-- bitd -->\n<g id=\"node6\" class=\"node\">\n<title>bitd</title>\n<ellipse fill=\"#e63946\" stroke=\"#e63946\" cx=\"1368\" cy=\"-1032.22\" rx=\"54\" ry=\"54\"/>\n<text text-anchor=\"middle\" x=\"1368\" y=\"-1036.02\" font-family=\"Times New Roman,serif\" font-size=\"14.00\">BitDao</text>\n<text text-anchor=\"middle\" x=\"1368\" y=\"-1021.02\" font-family=\"Times New Roman,serif\" font-size=\"14.00\">&#45;100M $</text>\n</g>\n<!-- bitd&#45;&gt;unkn -->\n<g id=\"edge12\" class=\"edge\">\n<title>bitd&#45;&gt;unkn</title>\n<path fill=\"none\" stroke=\"grey\" stroke-dasharray=\"5,2\" d=\"M1332.68,-991.18C1324.13,-982.77 1314.65,-974.4 1305,-967.59 1254.53,-931.98 1190.08,-903.24 1143.29,-884.89\"/>\n<polygon fill=\"grey\" stroke=\"grey\" points=\"1144.69,-881.68 1134.1,-881.33 1142.16,-888.21 1144.69,-881.68\"/>\n<text text-anchor=\"middle\" x=\"1297.5\" y=\"-938.39\" font-family=\"Times New Roman,serif\" font-size=\"14.00\">100M $</text>\n</g>\n<!-- bitf -->\n<g id=\"node7\" class=\"node\">\n<title>bitf</title>\n<ellipse fill=\"#e63946\" stroke=\"#e63946\" cx=\"1196\" cy=\"-213\" rx=\"54\" ry=\"54\"/>\n<text text-anchor=\"middle\" x=\"1196\" y=\"-216.8\" font-family=\"Times New Roman,serif\" font-size=\"14.00\">Bitfinex</text>\n<text text-anchor=\"middle\" x=\"1196\" y=\"-201.8\" font-family=\"Times New Roman,serif\" font-size=\"14.00\">0M $</text>\n</g>\n<!-- krak -->\n<g id=\"node18\" class=\"node\">\n<title>krak</title>\n<ellipse fill=\"#e63946\" stroke=\"#e63946\" cx=\"1196\" cy=\"-54\" rx=\"54\" ry=\"54\"/>\n<text text-anchor=\"middle\" x=\"1196\" y=\"-57.8\" font-family=\"Times New Roman,serif\" font-size=\"14.00\">Kraken</text>\n<text text-anchor=\"middle\" x=\"1196\" y=\"-42.8\" font-family=\"Times New Roman,serif\" font-size=\"14.00\">58M $</text>\n</g>\n<!-- bitf&#45;&gt;krak -->\n<g id=\"edge13\" class=\"edge\">\n<title>bitf&#45;&gt;krak</title>\n<path fill=\"none\" stroke=\"grey\" stroke-dasharray=\"5,2\" d=\"M1205.07,-159.37C1205.87,-153.2 1206.54,-146.97 1207,-141 1207.56,-133.72 1207.51,-126.12 1207.07,-118.57\"/>\n<polygon fill=\"grey\" stroke=\"grey\" points=\"1210.57,-118.4 1206.25,-108.72 1203.59,-118.98 1210.57,-118.4\"/>\n<text text-anchor=\"middle\" x=\"1229.5\" y=\"-129.8\" font-family=\"Times New Roman,serif\" font-size=\"14.00\">793M $</text>\n</g>\n<!-- bitf&#45;&gt;teth -->\n<g id=\"edge14\" class=\"edge\">\n<title>bitf&#45;&gt;teth</title>\n<path fill=\"none\" stroke=\"grey\" stroke-dasharray=\"5,2\" d=\"M1185.76,-266.41C1182.67,-277.75 1178.8,-289.48 1174,-300 1170.96,-306.65 1167.32,-313.35 1163.4,-319.84\"/>\n<polygon fill=\"grey\" stroke=\"grey\" points=\"1160.69,-317.58 1158.3,-327.9 1166.6,-321.32 1160.69,-317.58\"/>\n<text text-anchor=\"middle\" x=\"1205\" y=\"-288.8\" font-family=\"Times New Roman,serif\" font-size=\"14.00\">1099M $</text>\n</g>\n<!-- bitf&#45;&gt;unkn -->\n<g id=\"edge15\" class=\"edge\">\n<title>bitf&#45;&gt;unkn</title>\n<path fill=\"none\" stroke=\"grey\" stroke-dasharray=\"5,2\" d=\"M1235.48,-250.43C1353.15,-360.95 1688.13,-690.87 1603,-788.55 1573.43,-822.48 1280.94,-846.8 1147.16,-856.23\"/>\n<polygon fill=\"grey\" stroke=\"grey\" points=\"1147.12,-852.73 1137.39,-856.92 1147.61,-859.71 1147.12,-852.73\"/>\n<text text-anchor=\"middle\" x=\"1566.5\" y=\"-532.54\" font-family=\"Times New Roman,serif\" font-size=\"14.00\">929M $</text>\n</g>\n<!-- bits -->\n<g id=\"node8\" class=\"node\">\n<title>bits</title>\n<ellipse fill=\"#e63946\" stroke=\"#e63946\" cx=\"254\" cy=\"-698.4\" rx=\"54\" ry=\"54\"/>\n<text text-anchor=\"middle\" x=\"254\" y=\"-702.2\" font-family=\"Times New Roman,serif\" font-size=\"14.00\">Bitstamp</text>\n<text text-anchor=\"middle\" x=\"254\" y=\"-687.2\" font-family=\"Times New Roman,serif\" font-size=\"14.00\">670M $</text>\n</g>\n<!-- bits&#45;&gt;unkn -->\n<g id=\"edge16\" class=\"edge\">\n<title>bits&#45;&gt;unkn</title>\n<path fill=\"none\" stroke=\"grey\" stroke-dasharray=\"5,2\" d=\"M293.61,-735.49C301.28,-742.26 309.32,-749.2 317,-755.55 326.28,-763.23 348.8,-784.12 360,-788.55 390.23,-800.52 841.9,-840.13 1014.57,-854.93\"/>\n<polygon fill=\"grey\" stroke=\"grey\" points=\"1014.25,-858.41 1024.51,-855.78 1014.85,-851.44 1014.25,-858.41\"/>\n<text text-anchor=\"middle\" x=\"381.5\" y=\"-777.35\" font-family=\"Times New Roman,serif\" font-size=\"14.00\">334M $</text>\n</g>\n<!-- bits&#45;&gt;unkn -->\n<g id=\"edge17\" class=\"edge\">\n<title>bits&#45;&gt;unkn</title>\n<path fill=\"none\" stroke=\"grey\" stroke-dasharray=\"5,2\" d=\"M290.94,-737.94C298.98,-744.64 307.84,-750.93 317,-755.55 351.87,-773.14 367.24,-757.87 403,-773.55 413.5,-778.16 413.28,-784.46 424,-788.55 530.85,-829.35 869.69,-850.28 1014.42,-857.54\"/>\n<polygon fill=\"grey\" stroke=\"grey\" points=\"1014.07,-861.03 1024.23,-858.03 1014.42,-854.04 1014.07,-861.03\"/>\n<text text-anchor=\"middle\" x=\"442.5\" y=\"-777.35\" font-family=\"Times New Roman,serif\" font-size=\"14.00\">10M $</text>\n</g>\n<!-- bitt -->\n<g id=\"node9\" class=\"node\">\n<title>bitt</title>\n<ellipse fill=\"#e63946\" stroke=\"#e63946\" cx=\"140\" cy=\"-1032.22\" rx=\"54\" ry=\"54\"/>\n<text text-anchor=\"middle\" x=\"140\" y=\"-1036.02\" font-family=\"Times New Roman,serif\" font-size=\"14.00\">Bittrex</text>\n<text text-anchor=\"middle\" x=\"140\" y=\"-1021.02\" font-family=\"Times New Roman,serif\" font-size=\"14.00\">&#45;1664M $</text>\n</g>\n<!-- bitt&#45;&gt;unkn -->\n<g id=\"edge18\" class=\"edge\">\n<title>bitt&#45;&gt;unkn</title>\n<path fill=\"none\" stroke=\"grey\" stroke-dasharray=\"5,2\" d=\"M174.26,-990.4C182.93,-981.93 192.72,-973.73 203,-967.59 247.55,-940.97 264.04,-944.39 315,-934.59 570.54,-885.4 880.77,-869.37 1014.45,-864.52\"/>\n<polygon fill=\"grey\" stroke=\"grey\" points=\"1014.3,-868.02 1024.17,-864.17 1014.05,-861.03 1014.3,-868.02\"/>\n<text text-anchor=\"middle\" x=\"340\" y=\"-938.39\" font-family=\"Times New Roman,serif\" font-size=\"14.00\">1664M $</text>\n</g>\n<!-- bitv -->\n<g id=\"node10\" class=\"node\">\n<title>bitv</title>\n<ellipse fill=\"#e63946\" stroke=\"#e63946\" cx=\"380\" cy=\"-698.4\" rx=\"54\" ry=\"54\"/>\n<text text-anchor=\"middle\" x=\"380\" y=\"-702.2\" font-family=\"Times New Roman,serif\" font-size=\"14.00\">Bitvavo</text>\n<text text-anchor=\"middle\" x=\"380\" y=\"-687.2\" font-family=\"Times New Roman,serif\" font-size=\"14.00\">0M $</text>\n</g>\n<!-- bitv&#45;&gt;unkn -->\n<g id=\"edge19\" class=\"edge\">\n<title>bitv&#45;&gt;unkn</title>\n<path fill=\"none\" stroke=\"grey\" stroke-dasharray=\"5,2\" d=\"M418.87,-736.52C427.9,-743.66 437.86,-750.49 448,-755.55 478.67,-770.86 491.52,-759.99 523,-773.55 534.21,-778.38 534.56,-784.3 546,-788.55 706.67,-848.27 910.83,-859.42 1014.34,-860.91\"/>\n<polygon fill=\"grey\" stroke=\"grey\" points=\"1013.99,-864.41 1024.03,-861.03 1014.07,-857.41 1013.99,-864.41\"/>\n<text text-anchor=\"middle\" x=\"564.5\" y=\"-777.35\" font-family=\"Times New Roman,serif\" font-size=\"14.00\">66M $</text>\n</g>\n<!-- coin&#45;&gt;unkn -->\n<g id=\"edge20\" class=\"edge\">\n<title>coin&#45;&gt;unkn</title>\n<path fill=\"none\" stroke=\"grey\" stroke-dasharray=\"5,2\" d=\"M2419.41,-407.11C2432.76,-418.89 2446.22,-433.31 2455,-449.24 2491.39,-515.29 2516.72,-737.73 2461,-788.55 2411.96,-833.27 1416.27,-854.5 1147.41,-859.42\"/>\n<polygon fill=\"grey\" stroke=\"grey\" points=\"1147.73,-855.92 1137.79,-859.6 1147.86,-862.92 1147.73,-855.92\"/>\n<text text-anchor=\"middle\" x=\"2513.5\" y=\"-612.04\" font-family=\"Times New Roman,serif\" font-size=\"14.00\">602M $</text>\n</g>\n<!-- coin&#45;&gt;unkn -->\n<g id=\"edge21\" class=\"edge\">\n<title>coin&#45;&gt;unkn</title>\n<path fill=\"none\" stroke=\"grey\" stroke-dasharray=\"5,2\" d=\"M2361.68,-426.87C2330.85,-537.13 2260.81,-787.09 2259,-788.55 2172.34,-858.33 1384.69,-861.54 1147.98,-860.92\"/>\n<polygon fill=\"grey\" stroke=\"grey\" points=\"1147.99,-857.42 1137.98,-860.89 1147.97,-864.42 1147.99,-857.42\"/>\n<text text-anchor=\"middle\" x=\"2331.5\" y=\"-612.04\" font-family=\"Times New Roman,serif\" font-size=\"14.00\">255M $</text>\n</g>\n<!-- comp -->\n<g id=\"node12\" class=\"node\">\n<title>comp</title>\n<ellipse fill=\"#e63946\" stroke=\"#e63946\" cx=\"266\" cy=\"-1032.22\" rx=\"54\" ry=\"54\"/>\n<text text-anchor=\"middle\" x=\"266\" y=\"-1036.02\" font-family=\"Times New Roman,serif\" font-size=\"14.00\">Compound</text>\n<text text-anchor=\"middle\" x=\"266\" y=\"-1021.02\" font-family=\"Times New Roman,serif\" font-size=\"14.00\">&#45;30M $</text>\n</g>\n<!-- comp&#45;&gt;unkn -->\n<g id=\"edge22\" class=\"edge\">\n<title>comp&#45;&gt;unkn</title>\n<path fill=\"none\" stroke=\"grey\" stroke-dasharray=\"5,2\" d=\"M300.11,-990.14C308.78,-981.68 318.62,-973.55 329,-967.59 379.94,-938.33 399.24,-945.31 457,-934.59 658.36,-897.19 900.1,-875.91 1014.61,-867.22\"/>\n<polygon fill=\"grey\" stroke=\"grey\" points=\"1014.73,-870.72 1024.44,-866.48 1014.21,-863.74 1014.73,-870.72\"/>\n<text text-anchor=\"middle\" x=\"475.5\" y=\"-938.39\" font-family=\"Times New Roman,serif\" font-size=\"14.00\">30M $</text>\n</g>\n<!-- cryp -->\n<g id=\"node13\" class=\"node\">\n<title>cryp</title>\n<ellipse fill=\"#e63946\" stroke=\"#e63946\" cx=\"904\" cy=\"-1032.22\" rx=\"54\" ry=\"54\"/>\n<text text-anchor=\"middle\" x=\"904\" y=\"-1036.02\" font-family=\"Times New Roman,serif\" font-size=\"14.00\">CryptoCom</text>\n<text text-anchor=\"middle\" x=\"904\" y=\"-1021.02\" font-family=\"Times New Roman,serif\" font-size=\"14.00\">&#45;28M $</text>\n</g>\n<!-- cryp&#45;&gt;bina -->\n<g id=\"edge23\" class=\"edge\">\n<title>cryp&#45;&gt;bina</title>\n<path fill=\"none\" stroke=\"grey\" stroke-dasharray=\"5,2\" d=\"M869.05,-990.64C860.48,-982.26 850.9,-974.03 841,-967.59 672.41,-857.84 614.28,-850.6 418,-806.55 392.88,-800.91 204.48,-807.45 187,-788.55 159.07,-758.36 -49.9,-887.44 191,-641.24 217.92,-613.73 501.74,-638.69 537,-623.24 554.99,-615.36 571.41,-602.04 585.07,-588.21\"/>\n<polygon fill=\"grey\" stroke=\"grey\" points=\"587.42,-590.82 591.74,-581.15 582.33,-586.02 587.42,-590.82\"/>\n<text text-anchor=\"middle\" x=\"202\" y=\"-777.35\" font-family=\"Times New Roman,serif\" font-size=\"14.00\">9M $</text>\n</g>\n<!-- cryp&#45;&gt;unkn -->\n<g id=\"edge24\" class=\"edge\">\n<title>cryp&#45;&gt;unkn</title>\n<path fill=\"none\" stroke=\"grey\" stroke-dasharray=\"5,2\" d=\"M928.62,-983.91C938.77,-967.13 951.54,-948.88 966,-934.59 982.26,-918.5 1002.72,-904.26 1021.87,-892.78\"/>\n<polygon fill=\"grey\" stroke=\"grey\" points=\"1023.54,-895.85 1030.42,-887.79 1020.02,-889.81 1023.54,-895.85\"/>\n<text text-anchor=\"middle\" x=\"987.5\" y=\"-938.39\" font-family=\"Times New Roman,serif\" font-size=\"14.00\">263M $</text>\n</g>\n<!-- gemi -->\n<g id=\"node14\" class=\"node\">\n<title>gemi</title>\n<ellipse fill=\"#e63946\" stroke=\"#e63946\" cx=\"2365\" cy=\"-698.4\" rx=\"54\" ry=\"54\"/>\n<text text-anchor=\"middle\" x=\"2365\" y=\"-702.2\" font-family=\"Times New Roman,serif\" font-size=\"14.00\">Gemini</text>\n<text text-anchor=\"middle\" x=\"2365\" y=\"-687.2\" font-family=\"Times New Roman,serif\" font-size=\"14.00\">&#45;95M $</text>\n</g>\n<!-- gemi&#45;&gt;coin -->\n<g id=\"edge25\" class=\"edge\">\n<title>gemi&#45;&gt;coin</title>\n<path fill=\"none\" stroke=\"grey\" stroke-dasharray=\"5,2\" d=\"M2366.82,-644.26C2368.73,-588.25 2371.75,-500 2373.8,-440.05\"/>\n<polygon fill=\"grey\" stroke=\"grey\" points=\"2377.29,-440.46 2374.13,-430.35 2370.29,-440.22 2377.29,-440.46\"/>\n<text text-anchor=\"middle\" x=\"2390.5\" y=\"-532.54\" font-family=\"Times New Roman,serif\" font-size=\"14.00\">20M $</text>\n</g>\n<!-- gemi&#45;&gt;unkn -->\n<g id=\"edge26\" class=\"edge\">\n<title>gemi&#45;&gt;unkn</title>\n<path fill=\"none\" stroke=\"grey\" stroke-dasharray=\"5,2\" d=\"M2373.83,-751.72C2373.25,-765.35 2369.65,-778.9 2360,-788.55 2316.78,-831.78 1404.34,-853.88 1147.65,-859.25\"/>\n<polygon fill=\"grey\" stroke=\"grey\" points=\"1147.72,-855.75 1137.8,-859.46 1147.87,-862.75 1147.72,-855.75\"/>\n<text text-anchor=\"middle\" x=\"2389.5\" y=\"-777.35\" font-family=\"Times New Roman,serif\" font-size=\"14.00\">181M $</text>\n</g>\n<!-- gene -->\n<g id=\"node15\" class=\"node\">\n<title>gene</title>\n<ellipse fill=\"#e63946\" stroke=\"#e63946\" cx=\"522\" cy=\"-1032.22\" rx=\"57.88\" ry=\"57.88\"/>\n<text text-anchor=\"middle\" x=\"522\" y=\"-1036.02\" font-family=\"Times New Roman,serif\" font-size=\"14.00\">Genesis Trading</text>\n<text text-anchor=\"middle\" x=\"522\" y=\"-1021.02\" font-family=\"Times New Roman,serif\" font-size=\"14.00\">&#45;108M $</text>\n</g>\n<!-- gene&#45;&gt;bits -->\n<g id=\"edge27\" class=\"edge\">\n<title>gene&#45;&gt;bits</title>\n<path fill=\"none\" stroke=\"grey\" stroke-dasharray=\"5,2\" d=\"M481.22,-991.08C472.72,-983.12 463.69,-974.94 455,-967.59 353.96,-882.08 276.11,-906.98 217,-788.55 211.21,-776.95 212.3,-764.23 216.63,-752.11\"/>\n<polygon fill=\"grey\" stroke=\"grey\" points=\"219.8,-753.62 220.58,-743.05 213.38,-750.82 219.8,-753.62\"/>\n<text text-anchor=\"middle\" x=\"395.5\" y=\"-857.87\" font-family=\"Times New Roman,serif\" font-size=\"14.00\">30M $</text>\n</g>\n<!-- gene&#45;&gt;unkn -->\n<g id=\"edge28\" class=\"edge\">\n<title>gene&#45;&gt;unkn</title>\n<path fill=\"none\" stroke=\"grey\" stroke-dasharray=\"5,2\" d=\"M560.48,-988.62C569.23,-980.75 578.93,-973.24 589,-967.59 726.7,-890.22 915.37,-869.75 1014.28,-864.4\"/>\n<polygon fill=\"grey\" stroke=\"grey\" points=\"1014.28,-867.91 1024.09,-863.91 1013.93,-860.92 1014.28,-867.91\"/>\n<text text-anchor=\"middle\" x=\"669.5\" y=\"-938.39\" font-family=\"Times New Roman,serif\" font-size=\"14.00\">77M $</text>\n</g>\n<!-- huob -->\n<g id=\"node16\" class=\"node\">\n<title>huob</title>\n<ellipse fill=\"#e63946\" stroke=\"#e63946\" cx=\"1123\" cy=\"-698.4\" rx=\"54\" ry=\"54\"/>\n<text text-anchor=\"middle\" x=\"1123\" y=\"-702.2\" font-family=\"Times New Roman,serif\" font-size=\"14.00\">Huobi</text>\n<text text-anchor=\"middle\" x=\"1123\" y=\"-687.2\" font-family=\"Times New Roman,serif\" font-size=\"14.00\">&#45;218M $</text>\n</g>\n<!-- huob&#45;&gt;bina -->\n<g id=\"edge29\" class=\"edge\">\n<title>huob&#45;&gt;bina</title>\n<path fill=\"none\" stroke=\"grey\" stroke-dasharray=\"5,2\" d=\"M1086.46,-658C1078.39,-651.36 1069.41,-645.32 1060,-641.24 977.69,-605.6 946.51,-642.88 859,-623.24 797.88,-609.52 731.08,-583.83 684.55,-564.09\"/>\n<polygon fill=\"grey\" stroke=\"grey\" points=\"686.03,-560.91 675.45,-560.19 683.27,-567.34 686.03,-560.91\"/>\n<text text-anchor=\"middle\" x=\"877.5\" y=\"-612.04\" font-family=\"Times New Roman,serif\" font-size=\"14.00\">50M $</text>\n</g>\n<!-- huob&#45;&gt;teth -->\n<g id=\"edge30\" class=\"edge\">\n<title>huob&#45;&gt;teth</title>\n<path fill=\"none\" stroke=\"grey\" stroke-dasharray=\"5,2\" d=\"M1123,-643.9C1123,-588.75 1123,-502.61 1123,-442.88\"/>\n<polygon fill=\"grey\" stroke=\"grey\" points=\"1126.5,-443.19 1123,-433.19 1119.5,-443.19 1126.5,-443.19\"/>\n<text text-anchor=\"middle\" x=\"1144.5\" y=\"-532.54\" font-family=\"Times New Roman,serif\" font-size=\"14.00\">400M $</text>\n</g>\n<!-- huob&#45;&gt;unkn -->\n<g id=\"edge31\" class=\"edge\">\n<title>huob&#45;&gt;unkn</title>\n<path fill=\"none\" stroke=\"grey\" stroke-dasharray=\"5,2\" d=\"M1083.55,-735.68C1075.86,-742.43 1067.77,-749.32 1060,-755.55 1049.32,-764.12 1041.24,-761.36 1035,-773.55 1028.61,-786.03 1031.04,-799.45 1037.3,-811.93\"/>\n<polygon fill=\"grey\" stroke=\"grey\" points=\"1034.19,-813.54 1042.27,-820.39 1040.22,-810 1034.19,-813.54\"/>\n<text text-anchor=\"middle\" x=\"1050\" y=\"-777.35\" font-family=\"Times New Roman,serif\" font-size=\"14.00\">9M $</text>\n</g>\n<!-- just&#45;&gt;bina -->\n<g id=\"edge32\" class=\"edge\">\n<title>just&#45;&gt;bina</title>\n<path fill=\"none\" stroke=\"grey\" stroke-dasharray=\"5,2\" d=\"M248.89,-398.2C273.73,-409.12 304.6,-421.86 333,-431.24 364.73,-441.72 374.16,-439.11 406,-449.24 460.84,-466.69 521.65,-490.98 565.24,-509.29\"/>\n<polygon fill=\"grey\" stroke=\"grey\" points=\"563.7,-512.44 574.27,-513.11 566.42,-505.99 563.7,-512.44\"/>\n<text text-anchor=\"middle\" x=\"470.5\" y=\"-453.04\" font-family=\"Times New Roman,serif\" font-size=\"14.00\">530M $</text>\n</g>\n<!-- just&#45;&gt;unkn -->\n<g id=\"edge33\" class=\"edge\">\n<title>just&#45;&gt;unkn</title>\n<path fill=\"none\" stroke=\"grey\" stroke-dasharray=\"5,2\" d=\"M194.21,-428.68C185.14,-518.58 170.63,-696.8 191,-755.55 197.12,-773.19 200.4,-780.01 217,-788.55 255.08,-808.14 559.31,-803.15 602,-806.55 749.8,-818.33 922.45,-839.68 1014.76,-851.71\"/>\n<polygon fill=\"grey\" stroke=\"grey\" points=\"1014.29,-855.17 1024.66,-853 1015.19,-848.23 1014.29,-855.17\"/>\n<text text-anchor=\"middle\" x=\"207\" y=\"-612.04\" font-family=\"Times New Roman,serif\" font-size=\"14.00\">1445M $</text>\n</g>\n<!-- krak&#45;&gt;bitf -->\n<g id=\"edge34\" class=\"edge\">\n<title>krak&#45;&gt;bitf</title>\n<path fill=\"none\" stroke=\"grey\" stroke-dasharray=\"5,2\" d=\"M1168.74,-101.17C1165.13,-109.2 1161.99,-117.67 1160,-126 1157.54,-136.29 1158.68,-146.93 1161.75,-157.07\"/>\n<polygon fill=\"grey\" stroke=\"grey\" points=\"1158.46,-158.27 1165.23,-166.42 1165.02,-155.83 1158.46,-158.27\"/>\n<text text-anchor=\"middle\" x=\"1181.5\" y=\"-129.8\" font-family=\"Times New Roman,serif\" font-size=\"14.00\">587M $</text>\n</g>\n<!-- krak&#45;&gt;unkn -->\n<g id=\"edge35\" class=\"edge\">\n<title>krak&#45;&gt;unkn</title>\n<path fill=\"none\" stroke=\"grey\" stroke-dasharray=\"5,2\" d=\"M1141.74,-54.95C991.15,-57.85 563.92,-87.08 333,-318 289.88,-361.12 301.99,-388.93 293,-449.24 277.04,-556.35 391.08,-546.21 443,-641.24 468.48,-687.87 438.12,-720.45 478,-755.55 513.54,-786.83 538.22,-758.17 583,-773.55 596.35,-778.14 597.61,-784.08 611,-788.55 749.74,-834.83 921.56,-851.54 1014.22,-857.45\"/>\n<polygon fill=\"grey\" stroke=\"grey\" points=\"1013.96,-860.94 1024.15,-858.06 1014.39,-853.95 1013.96,-860.94\"/>\n<text text-anchor=\"middle\" x=\"314.5\" y=\"-453.04\" font-family=\"Times New Roman,serif\" font-size=\"14.00\">359M $</text>\n</g>\n<!-- liqu -->\n<g id=\"node19\" class=\"node\">\n<title>liqu</title>\n<ellipse fill=\"#e63946\" stroke=\"#e63946\" cx=\"392\" cy=\"-1032.22\" rx=\"54\" ry=\"54\"/>\n<text text-anchor=\"middle\" x=\"392\" y=\"-1036.02\" font-family=\"Times New Roman,serif\" font-size=\"14.00\">Liquity</text>\n<text text-anchor=\"middle\" x=\"392\" y=\"-1021.02\" font-family=\"Times New Roman,serif\" font-size=\"14.00\">&#45;31M $</text>\n</g>\n<!-- liqu&#45;&gt;unkn -->\n<g id=\"edge36\" class=\"edge\">\n<title>liqu&#45;&gt;unkn</title>\n<path fill=\"none\" stroke=\"grey\" stroke-dasharray=\"5,2\" d=\"M426.09,-990.11C434.77,-981.65 444.61,-973.53 455,-967.59 506.75,-937.99 526.54,-946.22 585,-934.59 737.74,-904.2 919.34,-881.1 1014.8,-869.95\"/>\n<polygon fill=\"grey\" stroke=\"grey\" points=\"1014.97,-873.45 1024.5,-868.83 1014.16,-866.5 1014.97,-873.45\"/>\n<text text-anchor=\"middle\" x=\"603.5\" y=\"-938.39\" font-family=\"Times New Roman,serif\" font-size=\"14.00\">31M $</text>\n</g>\n<!-- neop -->\n<g id=\"node20\" class=\"node\">\n<title>neop</title>\n<ellipse fill=\"#e63946\" stroke=\"#e63946\" cx=\"652\" cy=\"-1032.22\" rx=\"54\" ry=\"54\"/>\n<text text-anchor=\"middle\" x=\"652\" y=\"-1036.02\" font-family=\"Times New Roman,serif\" font-size=\"14.00\">Neoply</text>\n<text text-anchor=\"middle\" x=\"652\" y=\"-1021.02\" font-family=\"Times New Roman,serif\" font-size=\"14.00\">&#45;26M $</text>\n</g>\n<!-- neop&#45;&gt;unkn -->\n<g id=\"edge37\" class=\"edge\">\n<title>neop&#45;&gt;unkn</title>\n<path fill=\"none\" stroke=\"grey\" stroke-dasharray=\"5,2\" d=\"M686.23,-990.34C694.9,-981.88 704.7,-973.69 715,-967.59 810.48,-911.01 938.13,-883.48 1014.7,-871.22\"/>\n<polygon fill=\"grey\" stroke=\"grey\" points=\"1015.23,-874.68 1024.58,-869.69 1014.16,-867.76 1015.23,-874.68\"/>\n<text text-anchor=\"middle\" x=\"798.5\" y=\"-938.39\" font-family=\"Times New Roman,serif\" font-size=\"14.00\">26M $</text>\n</g>\n<!-- okex -->\n<g id=\"node21\" class=\"node\">\n<title>okex</title>\n<ellipse fill=\"#e63946\" stroke=\"#e63946\" cx=\"833\" cy=\"-698.4\" rx=\"54\" ry=\"54\"/>\n<text text-anchor=\"middle\" x=\"833\" y=\"-702.2\" font-family=\"Times New Roman,serif\" font-size=\"14.00\">OKEx</text>\n<text text-anchor=\"middle\" x=\"833\" y=\"-687.2\" font-family=\"Times New Roman,serif\" font-size=\"14.00\">1665M $</text>\n</g>\n<!-- okex&#45;&gt;unkn -->\n<g id=\"edge38\" class=\"edge\">\n<title>okex&#45;&gt;unkn</title>\n<path fill=\"none\" stroke=\"grey\" stroke-dasharray=\"5,2\" d=\"M791.55,-733.68C769.07,-752.39 745.7,-772.06 745,-773.55 742.19,-779.6 740.81,-783.37 745,-788.55 778.23,-829.66 926.49,-848.37 1014.58,-855.99\"/>\n<polygon fill=\"grey\" stroke=\"grey\" points=\"1014.04,-859.45 1024.3,-856.8 1014.62,-852.48 1014.04,-859.45\"/>\n<text text-anchor=\"middle\" x=\"763.5\" y=\"-777.35\" font-family=\"Times New Roman,serif\" font-size=\"14.00\">61M $</text>\n</g>\n<!-- paxo&#45;&gt;bina -->\n<g id=\"edge39\" class=\"edge\">\n<title>paxo&#45;&gt;bina</title>\n<path fill=\"none\" stroke=\"grey\" stroke-dasharray=\"5,2\" d=\"M553.45,-422.16C564.95,-440.34 578.23,-461.33 590.2,-480.25\"/>\n<polygon fill=\"grey\" stroke=\"grey\" points=\"587.21,-482.07 595.52,-488.65 593.13,-478.33 587.21,-482.07\"/>\n<text text-anchor=\"middle\" x=\"603\" y=\"-453.04\" font-family=\"Times New Roman,serif\" font-size=\"14.00\">2377M $</text>\n</g>\n<!-- paxo&#45;&gt;paxo -->\n<g id=\"edge85\" class=\"edge\">\n<title>paxo&#45;&gt;paxo</title>\n<path fill=\"none\" stroke=\"grey\" stroke-dasharray=\"5,2\" d=\"M577.88,-389.52C589.3,-388.01 597.55,-383.04 597.55,-374.62 597.55,-369.23 594.17,-365.25 588.73,-362.69\"/>\n<polygon fill=\"grey\" stroke=\"grey\" points=\"589.91,-359.38 579.34,-360.12 588.06,-366.14 589.91,-359.38\"/>\n<text text-anchor=\"middle\" x=\"625.05\" y=\"-370.92\" font-family=\"Times New Roman,serif\" font-size=\"14.00\">&#45;4862M $</text>\n</g>\n<!-- poly -->\n<g id=\"node23\" class=\"node\">\n<title>poly</title>\n<ellipse fill=\"#e63946\" stroke=\"#e63946\" cx=\"1252\" cy=\"-698.4\" rx=\"57.31\" ry=\"57.31\"/>\n<text text-anchor=\"middle\" x=\"1252\" y=\"-702.2\" font-family=\"Times New Roman,serif\" font-size=\"14.00\">Polygon Plasma</text>\n<text text-anchor=\"middle\" x=\"1252\" y=\"-687.2\" font-family=\"Times New Roman,serif\" font-size=\"14.00\">8M $</text>\n</g>\n<!-- poly&#45;&gt;unkn -->\n<g id=\"edge41\" class=\"edge\">\n<title>poly&#45;&gt;unkn</title>\n<path fill=\"none\" stroke=\"grey\" stroke-dasharray=\"5,2\" d=\"M1209.64,-737.49C1201.97,-743.78 1193.9,-750.05 1186,-755.55 1172.61,-764.88 1166.56,-763.13 1154,-773.55 1141.91,-783.58 1130.28,-795.8 1119.98,-807.86\"/>\n<polygon fill=\"grey\" stroke=\"grey\" points=\"1117.4,-805.5 1113.71,-815.43 1122.79,-809.97 1117.4,-805.5\"/>\n<text text-anchor=\"middle\" x=\"1172.5\" y=\"-777.35\" font-family=\"Times New Roman,serif\" font-size=\"14.00\">45M $</text>\n</g>\n<!-- kuco -->\n<g id=\"node36\" class=\"node\">\n<title>kuco</title>\n<ellipse fill=\"#e63946\" stroke=\"#e63946\" cx=\"1252\" cy=\"-536.24\" rx=\"54\" ry=\"54\"/>\n<text text-anchor=\"middle\" x=\"1252\" y=\"-540.04\" font-family=\"Times New Roman,serif\" font-size=\"14.00\">Kucoin</text>\n<text text-anchor=\"middle\" x=\"1252\" y=\"-525.04\" font-family=\"Times New Roman,serif\" font-size=\"14.00\">10M $</text>\n</g>\n<!-- poly&#45;&gt;kuco -->\n<g id=\"edge40\" class=\"edge\">\n<title>poly&#45;&gt;kuco</title>\n<path fill=\"none\" stroke=\"grey\" stroke-dasharray=\"5,2\" d=\"M1252,-640.93C1252,-628.25 1252,-614.71 1252,-601.73\"/>\n<polygon fill=\"grey\" stroke=\"grey\" points=\"1255.5,-602.03 1252,-592.03 1248.5,-602.03 1255.5,-602.03\"/>\n<text text-anchor=\"middle\" x=\"1270.5\" y=\"-612.04\" font-family=\"Times New Roman,serif\" font-size=\"14.00\">10M $</text>\n</g>\n<!-- renr -->\n<g id=\"node24\" class=\"node\">\n<title>renr</title>\n<ellipse fill=\"#e63946\" stroke=\"#e63946\" cx=\"396\" cy=\"-374.62\" rx=\"54\" ry=\"54\"/>\n<text text-anchor=\"middle\" x=\"396\" y=\"-378.42\" font-family=\"Times New Roman,serif\" font-size=\"14.00\">RenrenBit</text>\n<text text-anchor=\"middle\" x=\"396\" y=\"-363.42\" font-family=\"Times New Roman,serif\" font-size=\"14.00\">&#45;172M $</text>\n</g>\n<!-- renr&#45;&gt;bitf -->\n<g id=\"edge42\" class=\"edge\">\n<title>renr&#45;&gt;bitf</title>\n<path fill=\"none\" stroke=\"grey\" stroke-dasharray=\"5,2\" d=\"M432.75,-334.97C440.81,-328.37 449.72,-322.27 459,-318 578.36,-263.01 973.34,-229.75 1130.58,-218.4\"/>\n<polygon fill=\"grey\" stroke=\"grey\" points=\"1130.7,-221.9 1140.42,-217.7 1130.2,-214.92 1130.7,-221.9\"/>\n<text text-anchor=\"middle\" x=\"582.5\" y=\"-288.8\" font-family=\"Times New Roman,serif\" font-size=\"14.00\">172M $</text>\n</g>\n<!-- ripp -->\n<g id=\"node25\" class=\"node\">\n<title>ripp</title>\n<ellipse fill=\"#e63946\" stroke=\"#e63946\" cx=\"997\" cy=\"-698.4\" rx=\"54\" ry=\"54\"/>\n<text text-anchor=\"middle\" x=\"997\" y=\"-702.2\" font-family=\"Times New Roman,serif\" font-size=\"14.00\">Ripple</text>\n<text text-anchor=\"middle\" x=\"997\" y=\"-687.2\" font-family=\"Times New Roman,serif\" font-size=\"14.00\">&#45;55M $</text>\n</g>\n<!-- ripp&#45;&gt;unkn -->\n<g id=\"edge43\" class=\"edge\">\n<title>ripp&#45;&gt;unkn</title>\n<path fill=\"none\" stroke=\"grey\" stroke-dasharray=\"5,2\" d=\"M956.1,-734.12C947.27,-741.34 937.91,-748.81 929,-755.55 917.79,-764.03 909.52,-761.1 903,-773.55 899.91,-779.46 899.27,-783.02 903,-788.55 927.9,-825.49 975.3,-843.48 1014.93,-852.25\"/>\n<polygon fill=\"grey\" stroke=\"grey\" points=\"1014.16,-855.67 1024.66,-854.24 1015.56,-848.81 1014.16,-855.67\"/>\n<text text-anchor=\"middle\" x=\"924.5\" y=\"-777.35\" font-family=\"Times New Roman,serif\" font-size=\"14.00\">161M $</text>\n</g>\n<!-- sdf  -->\n<g id=\"node26\" class=\"node\">\n<title>sdf </title>\n<ellipse fill=\"#e63946\" stroke=\"#e63946\" cx=\"778\" cy=\"-1032.22\" rx=\"54\" ry=\"54\"/>\n<text text-anchor=\"middle\" x=\"778\" y=\"-1036.02\" font-family=\"Times New Roman,serif\" font-size=\"14.00\">SDF Direct</text>\n<text text-anchor=\"middle\" x=\"778\" y=\"-1021.02\" font-family=\"Times New Roman,serif\" font-size=\"14.00\">&#45;25M $</text>\n</g>\n<!-- sdf &#45;&gt;unkn -->\n<g id=\"edge44\" class=\"edge\">\n<title>sdf &#45;&gt;unkn</title>\n<path fill=\"none\" stroke=\"grey\" stroke-dasharray=\"5,2\" d=\"M813.28,-991.12C821.83,-982.71 831.32,-974.36 841,-967.59 895.87,-929.23 966.99,-900.26 1017.53,-882.57\"/>\n<polygon fill=\"grey\" stroke=\"grey\" points=\"1018.56,-885.91 1026.88,-879.35 1016.28,-879.3 1018.56,-885.91\"/>\n<text text-anchor=\"middle\" x=\"908.5\" y=\"-938.39\" font-family=\"Times New Roman,serif\" font-size=\"14.00\">25M $</text>\n</g>\n<!-- sush -->\n<g id=\"node27\" class=\"node\">\n<title>sush</title>\n<ellipse fill=\"#e63946\" stroke=\"#e63946\" cx=\"2658\" cy=\"-1205.01\" rx=\"54\" ry=\"54\"/>\n<text text-anchor=\"middle\" x=\"2658\" y=\"-1208.81\" font-family=\"Times New Roman,serif\" font-size=\"14.00\">SushiSwap</text>\n<text text-anchor=\"middle\" x=\"2658\" y=\"-1193.81\" font-family=\"Times New Roman,serif\" font-size=\"14.00\">&#45;9M $</text>\n</g>\n<!-- sush&#45;&gt;alam -->\n<g id=\"edge45\" class=\"edge\">\n<title>sush&#45;&gt;alam</title>\n<path fill=\"none\" stroke=\"grey\" stroke-dasharray=\"5,2\" d=\"M2658,-1150.91C2658,-1137.54 2658,-1122.93 2658,-1108.7\"/>\n<polygon fill=\"grey\" stroke=\"grey\" points=\"2661.5,-1108.91 2658,-1098.91 2654.5,-1108.91 2661.5,-1108.91\"/>\n<text text-anchor=\"middle\" x=\"2673\" y=\"-1118.65\" font-family=\"Times New Roman,serif\" font-size=\"14.00\">9M $</text>\n</g>\n<!-- teth&#45;&gt;bina -->\n<g id=\"edge46\" class=\"edge\">\n<title>teth&#45;&gt;bina</title>\n<path fill=\"none\" stroke=\"grey\" stroke-dasharray=\"5,2\" d=\"M1066.71,-384.9C1002.52,-396.35 894.95,-418.19 806,-449.24 763.25,-464.17 717.18,-486.14 682.22,-504.15\"/>\n<polygon fill=\"grey\" stroke=\"grey\" points=\"680.81,-500.93 673.55,-508.65 684.04,-507.15 680.81,-500.93\"/>\n<text text-anchor=\"middle\" x=\"831\" y=\"-453.04\" font-family=\"Times New Roman,serif\" font-size=\"14.00\">3248M $</text>\n</g>\n<!-- teth&#45;&gt;bitf -->\n<g id=\"edge47\" class=\"edge\">\n<title>teth&#45;&gt;bitf</title>\n<path fill=\"none\" stroke=\"grey\" stroke-dasharray=\"5,2\" d=\"M1113.73,-318.31C1113.84,-306.94 1115.52,-295.31 1120,-285 1125.34,-272.71 1133.97,-261.58 1143.53,-251.96\"/>\n<polygon fill=\"grey\" stroke=\"grey\" points=\"1145.74,-254.69 1150.63,-245.29 1140.95,-249.59 1145.74,-254.69\"/>\n<text text-anchor=\"middle\" x=\"1145\" y=\"-288.8\" font-family=\"Times New Roman,serif\" font-size=\"14.00\">1077M $</text>\n</g>\n<!-- teth&#45;&gt;unkn -->\n<g id=\"edge48\" class=\"edge\">\n<title>teth&#45;&gt;unkn</title>\n<path fill=\"none\" stroke=\"grey\" stroke-dasharray=\"5,2\" d=\"M1179.56,-380.19C1293.88,-390.66 1546.39,-420.36 1603,-482.24 1614.57,-494.89 1652.33,-775.68 1641,-788.55 1608.81,-825.14 1288.71,-848.34 1147.42,-856.88\"/>\n<polygon fill=\"grey\" stroke=\"grey\" points=\"1147.63,-853.36 1137.86,-857.45 1148.05,-860.34 1147.63,-853.36\"/>\n<text text-anchor=\"middle\" x=\"1649.5\" y=\"-612.04\" font-family=\"Times New Roman,serif\" font-size=\"14.00\">400M $</text>\n</g>\n<!-- tron&#45;&gt;bina -->\n<g id=\"edge49\" class=\"edge\">\n<title>tron&#45;&gt;bina</title>\n<path fill=\"none\" stroke=\"grey\" stroke-dasharray=\"5,2\" d=\"M692.12,-412.08C681.48,-423.32 670.54,-436.2 662,-449.24 656.82,-457.16 652.08,-465.92 647.85,-474.74\"/>\n<polygon fill=\"grey\" stroke=\"grey\" points=\"644.73,-473.14 643.75,-483.69 651.1,-476.05 644.73,-473.14\"/>\n<text text-anchor=\"middle\" x=\"683.5\" y=\"-453.04\" font-family=\"Times New Roman,serif\" font-size=\"14.00\">280M $</text>\n</g>\n<!-- tron&#45;&gt;unkn -->\n<g id=\"edge50\" class=\"edge\">\n<title>tron&#45;&gt;unkn</title>\n<path fill=\"none\" stroke=\"grey\" stroke-dasharray=\"5,2\" d=\"M785.07,-381.13C828.26,-388.69 886.16,-406.65 915,-449.24 920.29,-457.06 891.68,-780.75 897,-788.55 923.3,-827.09 973.61,-845.01 1014.98,-853.34\"/>\n<polygon fill=\"grey\" stroke=\"grey\" points=\"1014.15,-856.74 1024.62,-855.12 1015.42,-849.86 1014.15,-856.74\"/>\n<text text-anchor=\"middle\" x=\"928.5\" y=\"-612.04\" font-family=\"Times New Roman,serif\" font-size=\"14.00\">100M $</text>\n</g>\n<!-- usdc -->\n<g id=\"node30\" class=\"node\">\n<title>usdc</title>\n<ellipse fill=\"#e63946\" stroke=\"#e63946\" cx=\"904\" cy=\"-1205.01\" rx=\"57.31\" ry=\"57.31\"/>\n<text text-anchor=\"middle\" x=\"904\" y=\"-1208.81\" font-family=\"Times New Roman,serif\" font-size=\"14.00\">USDC Treasury</text>\n<text text-anchor=\"middle\" x=\"904\" y=\"-1193.81\" font-family=\"Times New Roman,serif\" font-size=\"14.00\">0M $</text>\n</g>\n<!-- usdc&#45;&gt;bina -->\n<g id=\"edge51\" class=\"edge\">\n<title>usdc&#45;&gt;bina</title>\n<path fill=\"none\" stroke=\"grey\" stroke-dasharray=\"5,2\" d=\"M846.21,-1204.41C677.99,-1204.4 193.15,-1195.63 77,-1096.85 54.52,-1077.73 58,-1062.73 58,-1033.22 58,-1033.22 58,-1033.22 58,-697.4 58,-648.1 79.42,-629.3 124,-608.24 199.91,-572.38 441.75,-550.49 559.43,-541.7\"/>\n<polygon fill=\"grey\" stroke=\"grey\" points=\"559.53,-545.2 569.25,-540.98 559.02,-538.22 559.53,-545.2\"/>\n<text text-anchor=\"middle\" x=\"76.5\" y=\"-857.87\" font-family=\"Times New Roman,serif\" font-size=\"14.00\">82M $</text>\n</g>\n<!-- usdc&#45;&gt;coin -->\n<g id=\"edge52\" class=\"edge\">\n<title>usdc&#45;&gt;coin</title>\n<path fill=\"none\" stroke=\"grey\" stroke-dasharray=\"5,2\" d=\"M961.66,-1204.26C1254.69,-1204.8 2565,-1198 2565,-1033.22 2565,-1033.22 2565,-1033.22 2565,-535.24 2565,-467.05 2492.3,-422.05 2437.08,-397.7\"/>\n<polygon fill=\"grey\" stroke=\"grey\" points=\"2438.61,-394.55 2428.04,-393.84 2435.87,-400.98 2438.61,-394.55\"/>\n<text text-anchor=\"middle\" x=\"2593.5\" y=\"-777.35\" font-family=\"Times New Roman,serif\" font-size=\"14.00\">20799M $</text>\n</g>\n<!-- usdc&#45;&gt;cryp -->\n<g id=\"edge53\" class=\"edge\">\n<title>usdc&#45;&gt;cryp</title>\n<path fill=\"none\" stroke=\"grey\" stroke-dasharray=\"5,2\" d=\"M904,-1147.61C904,-1131.67 904,-1114.19 904,-1097.8\"/>\n<polygon fill=\"grey\" stroke=\"grey\" points=\"907.5,-1098.17 904,-1088.17 900.5,-1098.17 907.5,-1098.17\"/>\n<text text-anchor=\"middle\" x=\"925.5\" y=\"-1118.65\" font-family=\"Times New Roman,serif\" font-size=\"14.00\">244M $</text>\n</g>\n<!-- usdc&#45;&gt;just -->\n<g id=\"edge54\" class=\"edge\">\n<title>usdc&#45;&gt;just</title>\n<path fill=\"none\" stroke=\"grey\" stroke-dasharray=\"5,2\" d=\"M846.43,-1202.22C686.99,-1196.73 242.4,-1177.44 105,-1129.85 45.07,-1109.1 0,-1096.64 0,-1033.22 0,-1033.22 0,-1033.22 0,-535.24 0,-463.73 79.09,-419.03 137.79,-395.71\"/>\n<polygon fill=\"grey\" stroke=\"grey\" points=\"139,-399 147.08,-392.14 136.49,-392.46 139,-399\"/>\n<text text-anchor=\"middle\" x=\"21.5\" y=\"-777.35\" font-family=\"Times New Roman,serif\" font-size=\"14.00\">759M $</text>\n</g>\n<!-- usdc&#45;&gt;usdc -->\n<g id=\"edge86\" class=\"edge\">\n<title>usdc&#45;&gt;usdc</title>\n<path fill=\"none\" stroke=\"grey\" stroke-dasharray=\"5,2\" d=\"M959.72,-1219.91C971.04,-1218.29 979.15,-1213.32 979.15,-1205.01 979.15,-1199.68 975.83,-1195.73 970.46,-1193.15\"/>\n<polygon fill=\"grey\" stroke=\"grey\" points=\"971.75,-1189.88 961.17,-1190.51 969.84,-1196.61 971.75,-1189.88\"/>\n<text text-anchor=\"middle\" x=\"1006.65\" y=\"-1201.31\" font-family=\"Times New Roman,serif\" font-size=\"14.00\">&#45;2545M $</text>\n</g>\n<!-- usdc&#45;&gt;unkn -->\n<g id=\"edge55\" class=\"edge\">\n<title>usdc&#45;&gt;unkn</title>\n<path fill=\"none\" stroke=\"grey\" stroke-dasharray=\"5,2\" d=\"M959.28,-1189.4C1004.13,-1174.32 1064.42,-1145.9 1093,-1096.85 1123.31,-1044.83 1114.61,-974.77 1101.85,-924.85\"/>\n<polygon fill=\"grey\" stroke=\"grey\" points=\"1105.27,-924.1 1099.3,-915.35 1098.51,-925.91 1105.27,-924.1\"/>\n<text text-anchor=\"middle\" x=\"1139\" y=\"-1028.52\" font-family=\"Times New Roman,serif\" font-size=\"14.00\">3031M $</text>\n</g>\n<!-- upbi -->\n<g id=\"node31\" class=\"node\">\n<title>upbi</title>\n<ellipse fill=\"#e63946\" stroke=\"#e63946\" cx=\"1381\" cy=\"-698.4\" rx=\"54\" ry=\"54\"/>\n<text text-anchor=\"middle\" x=\"1381\" y=\"-702.2\" font-family=\"Times New Roman,serif\" font-size=\"14.00\">Upbit</text>\n<text text-anchor=\"middle\" x=\"1381\" y=\"-687.2\" font-family=\"Times New Roman,serif\" font-size=\"14.00\">&#45;43M $</text>\n</g>\n<!-- upbi&#45;&gt;unkn -->\n<g id=\"edge56\" class=\"edge\">\n<title>upbi&#45;&gt;unkn</title>\n<path fill=\"none\" stroke=\"grey\" stroke-dasharray=\"5,2\" d=\"M1384.54,-752.77C1382.85,-765.77 1378.68,-778.74 1370,-788.55 1340.9,-821.42 1223.28,-842.37 1147.36,-852.75\"/>\n<polygon fill=\"grey\" stroke=\"grey\" points=\"1146.96,-849.27 1137.51,-854.06 1147.89,-856.21 1146.96,-849.27\"/>\n<text text-anchor=\"middle\" x=\"1396.5\" y=\"-777.35\" font-family=\"Times New Roman,serif\" font-size=\"14.00\">90M $</text>\n</g>\n<!-- wrap -->\n<g id=\"node32\" class=\"node\">\n<title>wrap</title>\n<ellipse fill=\"#e63946\" stroke=\"#e63946\" cx=\"1507\" cy=\"-698.4\" rx=\"54\" ry=\"54\"/>\n<text text-anchor=\"middle\" x=\"1507\" y=\"-702.2\" font-family=\"Times New Roman,serif\" font-size=\"14.00\">Wrapped BTC</text>\n<text text-anchor=\"middle\" x=\"1507\" y=\"-687.2\" font-family=\"Times New Roman,serif\" font-size=\"14.00\">495M $</text>\n</g>\n<!-- wrap&#45;&gt;unkn -->\n<g id=\"edge57\" class=\"edge\">\n<title>wrap&#45;&gt;unkn</title>\n<path fill=\"none\" stroke=\"grey\" stroke-dasharray=\"5,2\" d=\"M1546.57,-735.85C1560.4,-752.91 1569.47,-772.88 1556,-788.55 1504.16,-848.84 1266.09,-859.27 1147.92,-860.67\"/>\n<polygon fill=\"grey\" stroke=\"grey\" points=\"1148,-857.17 1138.04,-860.77 1148.07,-864.17 1148,-857.17\"/>\n<text text-anchor=\"middle\" x=\"1580.5\" y=\"-777.35\" font-family=\"Times New Roman,serif\" font-size=\"14.00\">62M $</text>\n</g>\n<!-- unkn&#45;&gt;aave -->\n<g id=\"edge59\" class=\"edge\">\n<title>unkn&#45;&gt;aave</title>\n<path fill=\"none\" stroke=\"grey\" stroke-dasharray=\"5,2\" d=\"M1065.26,-914.62C1060.04,-931.88 1054.18,-951.27 1048.75,-969.21\"/>\n<polygon fill=\"grey\" stroke=\"grey\" points=\"1045.42,-968.13 1045.88,-978.71 1052.12,-970.15 1045.42,-968.13\"/>\n<text text-anchor=\"middle\" x=\"1074\" y=\"-938.39\" font-family=\"Times New Roman,serif\" font-size=\"14.00\">6M $</text>\n</g>\n<!-- unkn&#45;&gt;axie -->\n<g id=\"edge60\" class=\"edge\">\n<title>unkn&#45;&gt;axie</title>\n<path fill=\"none\" stroke=\"grey\" stroke-dasharray=\"5,2\" d=\"M1136.26,-858.85C1325.07,-852.62 1937.23,-829.46 2015,-788.55 2030.17,-780.57 2043.28,-767.87 2054,-754.53\"/>\n<polygon fill=\"grey\" stroke=\"grey\" points=\"2056.52,-756.99 2059.78,-746.91 2050.95,-752.76 2056.52,-756.99\"/>\n<text text-anchor=\"middle\" x=\"2050\" y=\"-777.35\" font-family=\"Times New Roman,serif\" font-size=\"14.00\">7M $</text>\n</g>\n<!-- unkn&#45;&gt;bina -->\n<g id=\"edge61\" class=\"edge\">\n<title>unkn&#45;&gt;bina</title>\n<path fill=\"none\" stroke=\"grey\" stroke-dasharray=\"5,2\" d=\"M1026.53,-851.82C955.92,-839.97 829.25,-817.01 723,-788.55 700.8,-782.61 638.41,-774.21 625,-755.55 592.86,-710.81 597.21,-646.5 606.98,-599.27\"/>\n<polygon fill=\"grey\" stroke=\"grey\" points=\"610.35,-600.25 609.1,-589.73 603.52,-598.74 610.35,-600.25\"/>\n<text text-anchor=\"middle\" x=\"650\" y=\"-694.7\" font-family=\"Times New Roman,serif\" font-size=\"14.00\">2959M $</text>\n</g>\n<!-- unkn&#45;&gt;bina -->\n<g id=\"edge62\" class=\"edge\">\n<title>unkn&#45;&gt;bina</title>\n<path fill=\"none\" stroke=\"grey\" stroke-dasharray=\"5,2\" d=\"M1025.91,-856.79C944.29,-849.94 787.29,-831.92 661,-788.55 647.65,-783.96 646.23,-778.48 633,-773.55 598.85,-760.83 575.77,-784.01 553,-755.55 521.26,-715.88 537.85,-689.73 553,-641.24 554.94,-635.05 570.44,-612.4 586.56,-589.81\"/>\n<polygon fill=\"grey\" stroke=\"grey\" points=\"589.36,-591.92 592.35,-581.75 583.67,-587.83 589.36,-591.92\"/>\n<text text-anchor=\"middle\" x=\"574.5\" y=\"-694.7\" font-family=\"Times New Roman,serif\" font-size=\"14.00\">267M $</text>\n</g>\n<!-- unkn&#45;&gt;bitf -->\n<g id=\"edge63\" class=\"edge\">\n<title>unkn&#45;&gt;bitf</title>\n<path fill=\"none\" stroke=\"grey\" stroke-dasharray=\"5,2\" d=\"M1136.15,-859.96C1346.97,-856.99 2092.87,-840.52 2150,-755.55 2178.35,-713.39 2177.62,-683.88 2150,-641.24 1944.34,-323.8 1441.2,-240.06 1261.29,-219.89\"/>\n<polygon fill=\"grey\" stroke=\"grey\" points=\"1261.74,-216.42 1251.42,-218.82 1260.98,-223.38 1261.74,-216.42\"/>\n<text text-anchor=\"middle\" x=\"2132.5\" y=\"-532.54\" font-family=\"Times New Roman,serif\" font-size=\"14.00\">537M $</text>\n</g>\n<!-- unkn&#45;&gt;bits -->\n<g id=\"edge64\" class=\"edge\">\n<title>unkn&#45;&gt;bits</title>\n<path fill=\"none\" stroke=\"grey\" stroke-dasharray=\"5,2\" d=\"M1026.06,-855.34C919.98,-845.31 679.53,-822.93 477,-806.55 449.35,-804.32 246.89,-808.86 228,-788.55 219.34,-779.24 218.48,-767.2 221.45,-755\"/>\n<polygon fill=\"grey\" stroke=\"grey\" points=\"224.69,-756.33 224.46,-745.74 218.04,-754.16 224.69,-756.33\"/>\n<text text-anchor=\"middle\" x=\"249.5\" y=\"-777.35\" font-family=\"Times New Roman,serif\" font-size=\"14.00\">103M $</text>\n</g>\n<!-- unkn&#45;&gt;bits -->\n<g id=\"edge65\" class=\"edge\">\n<title>unkn&#45;&gt;bits</title>\n<path fill=\"none\" stroke=\"grey\" stroke-dasharray=\"5,2\" d=\"M1025.98,-855.64C847.17,-839.61 293.86,-789.91 292,-788.55 282.62,-781.72 275.54,-772.1 270.19,-761.69\"/>\n<polygon fill=\"grey\" stroke=\"grey\" points=\"273.53,-760.57 266.21,-752.91 267.15,-763.46 273.53,-760.57\"/>\n<text text-anchor=\"middle\" x=\"313.5\" y=\"-777.35\" font-family=\"Times New Roman,serif\" font-size=\"14.00\">650M $</text>\n</g>\n<!-- unkn&#45;&gt;bitv -->\n<g id=\"edge66\" class=\"edge\">\n<title>unkn&#45;&gt;bitv</title>\n<path fill=\"none\" stroke=\"grey\" stroke-dasharray=\"5,2\" d=\"M1025.67,-858.08C896.5,-851.6 578.76,-831.64 482,-788.55 478.55,-787.01 452.87,-764.56 428.15,-742.58\"/>\n<polygon fill=\"grey\" stroke=\"grey\" points=\"430.76,-740.22 420.96,-736.18 426.1,-745.45 430.76,-740.22\"/>\n<text text-anchor=\"middle\" x=\"500.5\" y=\"-777.35\" font-family=\"Times New Roman,serif\" font-size=\"14.00\">66M $</text>\n</g>\n<!-- unkn&#45;&gt;coin -->\n<g id=\"edge67\" class=\"edge\">\n<title>unkn&#45;&gt;coin</title>\n<path fill=\"none\" stroke=\"grey\" stroke-dasharray=\"5,2\" d=\"M1136.35,-861C1353.53,-862.18 2139.52,-861.34 2221,-788.55 2281.7,-734.33 2228.17,-685.75 2253,-608.24 2271.92,-549.17 2283.86,-537 2313,-482.24 2322.08,-465.18 2332.54,-446.97 2342.31,-430.5\"/>\n<polygon fill=\"grey\" stroke=\"grey\" points=\"2345.06,-432.71 2347.18,-422.33 2339.05,-429.12 2345.06,-432.71\"/>\n<text text-anchor=\"middle\" x=\"2278\" y=\"-612.04\" font-family=\"Times New Roman,serif\" font-size=\"14.00\">2211M $</text>\n</g>\n<!-- unkn&#45;&gt;coin -->\n<g id=\"edge68\" class=\"edge\">\n<title>unkn&#45;&gt;coin</title>\n<path fill=\"none\" stroke=\"grey\" stroke-dasharray=\"5,2\" d=\"M1136.16,-861.05C1374.67,-862.69 2310.06,-864.22 2415,-788.55 2470.21,-748.74 2427.46,-548.76 2413,-482.24 2409.67,-466.91 2404.8,-450.74 2399.68,-435.76\"/>\n<polygon fill=\"grey\" stroke=\"grey\" points=\"2403.05,-434.78 2396.44,-426.51 2396.45,-437.11 2403.05,-434.78\"/>\n<text text-anchor=\"middle\" x=\"2458.5\" y=\"-612.04\" font-family=\"Times New Roman,serif\" font-size=\"14.00\">171M $</text>\n</g>\n<!-- unkn&#45;&gt;gemi -->\n<g id=\"edge70\" class=\"edge\">\n<title>unkn&#45;&gt;gemi</title>\n<path fill=\"none\" stroke=\"grey\" stroke-dasharray=\"5,2\" d=\"M1136.26,-859.92C1359.84,-856.94 2190.43,-842.31 2294,-788.55 2302.89,-783.94 2315.85,-769.03 2328.28,-752.68\"/>\n<polygon fill=\"grey\" stroke=\"grey\" points=\"2331.04,-754.84 2334.19,-744.73 2325.42,-750.67 2331.04,-754.84\"/>\n<text text-anchor=\"middle\" x=\"2331.5\" y=\"-777.35\" font-family=\"Times New Roman,serif\" font-size=\"14.00\">106M $</text>\n</g>\n<!-- unkn&#45;&gt;huob -->\n<g id=\"edge71\" class=\"edge\">\n<title>unkn&#45;&gt;huob</title>\n<path fill=\"none\" stroke=\"grey\" stroke-dasharray=\"5,2\" d=\"M1082.34,-806.21C1083.45,-795.27 1085.23,-783.95 1088,-773.55 1089.48,-768.02 1091.35,-762.39 1093.46,-756.84\"/>\n<polygon fill=\"grey\" stroke=\"grey\" points=\"1096.66,-758.28 1097.21,-747.7 1090.18,-755.63 1096.66,-758.28\"/>\n<text text-anchor=\"middle\" x=\"1109.5\" y=\"-777.35\" font-family=\"Times New Roman,serif\" font-size=\"14.00\">241M $</text>\n</g>\n<!-- unkn&#45;&gt;just -->\n<g id=\"edge72\" class=\"edge\">\n<title>unkn&#45;&gt;just</title>\n<path fill=\"none\" stroke=\"grey\" stroke-dasharray=\"5,2\" d=\"M1026.16,-853.15C937.27,-841.41 756.14,-818.64 602,-806.55 556.87,-803.01 233.4,-812.51 195,-788.55 81.55,-717.77 136.06,-530.95 174.02,-434.74\"/>\n<polygon fill=\"grey\" stroke=\"grey\" points=\"177.16,-436.3 177.64,-425.71 170.67,-433.69 177.16,-436.3\"/>\n<text text-anchor=\"middle\" x=\"150.5\" y=\"-612.04\" font-family=\"Times New Roman,serif\" font-size=\"14.00\">780M $</text>\n</g>\n<!-- unkn&#45;&gt;krak -->\n<g id=\"edge73\" class=\"edge\">\n<title>unkn&#45;&gt;krak</title>\n<path fill=\"none\" stroke=\"grey\" stroke-dasharray=\"5,2\" d=\"M1136.45,-860.12C1324,-858.08 1933.23,-847.01 2119,-788.55 2146.19,-779.99 2159.95,-780.36 2174,-755.55 2401.02,-354.6 1510.48,-124.45 1259.92,-68.48\"/>\n<polygon fill=\"grey\" stroke=\"grey\" points=\"1260.83,-65.09 1250.31,-66.35 1259.31,-71.93 1260.83,-65.09\"/>\n<text text-anchor=\"middle\" x=\"2164.5\" y=\"-453.04\" font-family=\"Times New Roman,serif\" font-size=\"14.00\">212M $</text>\n</g>\n<!-- unkn&#45;&gt;okex -->\n<g id=\"edge75\" class=\"edge\">\n<title>unkn&#45;&gt;okex</title>\n<path fill=\"none\" stroke=\"grey\" stroke-dasharray=\"5,2\" d=\"M1026.03,-854.13C953.48,-844.38 831.79,-823.23 805,-788.55 797.41,-778.72 796.86,-766.8 799.82,-754.91\"/>\n<polygon fill=\"grey\" stroke=\"grey\" points=\"803.12,-756.09 802.95,-745.5 796.48,-753.88 803.12,-756.09\"/>\n<text text-anchor=\"middle\" x=\"830\" y=\"-777.35\" font-family=\"Times New Roman,serif\" font-size=\"14.00\">1726M $</text>\n</g>\n<!-- unkn&#45;&gt;paxo -->\n<g id=\"edge76\" class=\"edge\">\n<title>unkn&#45;&gt;paxo</title>\n<path fill=\"none\" stroke=\"grey\" stroke-dasharray=\"5,2\" d=\"M1025.83,-857.51C940.31,-851.47 771.49,-834.37 636,-788.55 622.63,-784.03 621.21,-778.53 608,-773.55 575.12,-761.15 554.94,-781.28 531,-755.55 451.77,-670.38 478.36,-522.28 502.59,-438.36\"/>\n<polygon fill=\"grey\" stroke=\"grey\" points=\"505.91,-439.49 505.4,-428.9 499.2,-437.49 505.91,-439.49\"/>\n<text text-anchor=\"middle\" x=\"505\" y=\"-612.04\" font-family=\"Times New Roman,serif\" font-size=\"14.00\">1755M $</text>\n</g>\n<!-- unkn&#45;&gt;poly -->\n<g id=\"edge77\" class=\"edge\">\n<title>unkn&#45;&gt;poly</title>\n<path fill=\"none\" stroke=\"grey\" stroke-dasharray=\"5,2\" d=\"M1129.47,-834.49C1149.82,-822.18 1172.9,-806.28 1191,-788.55 1200.42,-779.32 1209.27,-768.44 1217.14,-757.5\"/>\n<polygon fill=\"grey\" stroke=\"grey\" points=\"1219.82,-759.79 1222.66,-749.58 1214.07,-755.79 1219.82,-759.79\"/>\n<text text-anchor=\"middle\" x=\"1224.5\" y=\"-777.35\" font-family=\"Times New Roman,serif\" font-size=\"14.00\">194M $</text>\n</g>\n<!-- unkn&#45;&gt;poly -->\n<g id=\"edge78\" class=\"edge\">\n<title>unkn&#45;&gt;poly</title>\n<path fill=\"none\" stroke=\"grey\" stroke-dasharray=\"5,2\" d=\"M1135.77,-852.93C1174.69,-844.36 1224.43,-826.32 1250,-788.55 1254.48,-781.93 1257.24,-774.35 1258.78,-766.47\"/>\n<polygon fill=\"grey\" stroke=\"grey\" points=\"1262.24,-767.05 1260.02,-756.69 1255.29,-766.18 1262.24,-767.05\"/>\n<text text-anchor=\"middle\" x=\"1272\" y=\"-777.35\" font-family=\"Times New Roman,serif\" font-size=\"14.00\">8M $</text>\n</g>\n<!-- unkn&#45;&gt;ripp -->\n<g id=\"edge79\" class=\"edge\">\n<title>unkn&#45;&gt;ripp</title>\n<path fill=\"none\" stroke=\"grey\" stroke-dasharray=\"5,2\" d=\"M1031.68,-836.21C1013.55,-824.49 995.02,-808.58 985,-788.55 980.83,-780.21 979.26,-770.91 979.3,-761.55\"/>\n<polygon fill=\"grey\" stroke=\"grey\" points=\"982.78,-761.89 979.98,-751.67 975.8,-761.41 982.78,-761.89\"/>\n<text text-anchor=\"middle\" x=\"1006.5\" y=\"-777.35\" font-family=\"Times New Roman,serif\" font-size=\"14.00\">106M $</text>\n</g>\n<!-- unkn&#45;&gt;upbi -->\n<g id=\"edge80\" class=\"edge\">\n<title>unkn&#45;&gt;upbi</title>\n<path fill=\"none\" stroke=\"grey\" stroke-dasharray=\"5,2\" d=\"M1134.82,-849.22C1179.07,-838.27 1242.21,-818.84 1291,-788.55 1308.5,-777.69 1325.24,-762.84 1339.44,-748.38\"/>\n<polygon fill=\"grey\" stroke=\"grey\" points=\"1341.63,-751.15 1346.01,-741.5 1336.57,-746.32 1341.63,-751.15\"/>\n<text text-anchor=\"middle\" x=\"1328.5\" y=\"-777.35\" font-family=\"Times New Roman,serif\" font-size=\"14.00\">46M $</text>\n</g>\n<!-- unkn&#45;&gt;wrap -->\n<g id=\"edge81\" class=\"edge\">\n<title>unkn&#45;&gt;wrap</title>\n<path fill=\"none\" stroke=\"grey\" stroke-dasharray=\"5,2\" d=\"M1136.45,-858.44C1206.31,-853.67 1328.22,-838.25 1419,-788.55 1436.7,-778.86 1453.13,-764.48 1466.89,-750.09\"/>\n<polygon fill=\"grey\" stroke=\"grey\" points=\"1469.44,-752.48 1473.64,-742.76 1464.29,-747.74 1469.44,-752.48\"/>\n<text text-anchor=\"middle\" x=\"1459.5\" y=\"-777.35\" font-family=\"Times New Roman,serif\" font-size=\"14.00\">495M $</text>\n</g>\n<!-- unkn&#45;&gt;wrap -->\n<g id=\"edge82\" class=\"edge\">\n<title>unkn&#45;&gt;wrap</title>\n<path fill=\"none\" stroke=\"grey\" stroke-dasharray=\"5,2\" d=\"M1136.3,-857.99C1234.89,-852.26 1435.34,-835.06 1485,-788.55 1492.27,-781.74 1497.3,-772.94 1500.76,-763.54\"/>\n<polygon fill=\"grey\" stroke=\"grey\" points=\"1504.04,-764.76 1503.58,-754.18 1497.34,-762.74 1504.04,-764.76\"/>\n<text text-anchor=\"middle\" x=\"1513.5\" y=\"-777.35\" font-family=\"Times New Roman,serif\" font-size=\"14.00\">35M $</text>\n</g>\n<!-- unkn&#45;&gt;unkn -->\n<g id=\"edge83\" class=\"edge\">\n<title>unkn&#45;&gt;unkn</title>\n<path fill=\"none\" stroke=\"grey\" stroke-dasharray=\"5,2\" d=\"M1134.49,-876.18C1145.83,-874.69 1154.02,-869.82 1154.02,-861.57 1154.02,-856.28 1150.66,-852.38 1145.26,-849.87\"/>\n<polygon fill=\"grey\" stroke=\"grey\" points=\"1146.52,-846.58 1135.95,-847.35 1144.69,-853.34 1146.52,-846.58\"/>\n<text text-anchor=\"middle\" x=\"1182.52\" y=\"-857.87\" font-family=\"Times New Roman,serif\" font-size=\"14.00\">11164M $</text>\n</g>\n<!-- 1inc -->\n<g id=\"node34\" class=\"node\">\n<title>1inc</title>\n<ellipse fill=\"#e63946\" stroke=\"#e63946\" cx=\"1709\" cy=\"-698.4\" rx=\"54\" ry=\"54\"/>\n<text text-anchor=\"middle\" x=\"1709\" y=\"-702.2\" font-family=\"Times New Roman,serif\" font-size=\"14.00\">1inch</text>\n<text text-anchor=\"middle\" x=\"1709\" y=\"-687.2\" font-family=\"Times New Roman,serif\" font-size=\"14.00\">18M $</text>\n</g>\n<!-- unkn&#45;&gt;1inc -->\n<g id=\"edge58\" class=\"edge\">\n<title>unkn&#45;&gt;1inc</title>\n<path fill=\"none\" stroke=\"grey\" stroke-dasharray=\"5,2\" d=\"M1136.33,-860.55C1266.06,-859.45 1585.2,-850.36 1669,-788.55 1678.52,-781.53 1685.82,-771.72 1691.4,-761.16\"/>\n<polygon fill=\"grey\" stroke=\"grey\" points=\"1694.51,-762.78 1695.6,-752.25 1688.18,-759.8 1694.51,-762.78\"/>\n<text text-anchor=\"middle\" x=\"1701.5\" y=\"-777.35\" font-family=\"Times New Roman,serif\" font-size=\"14.00\">18M $</text>\n</g>\n<!-- falc -->\n<g id=\"node35\" class=\"node\">\n<title>falc</title>\n<ellipse fill=\"#e63946\" stroke=\"#e63946\" cx=\"1835\" cy=\"-698.4\" rx=\"54\" ry=\"54\"/>\n<text text-anchor=\"middle\" x=\"1835\" y=\"-702.2\" font-family=\"Times New Roman,serif\" font-size=\"14.00\">FalconX</text>\n<text text-anchor=\"middle\" x=\"1835\" y=\"-687.2\" font-family=\"Times New Roman,serif\" font-size=\"14.00\">468M $</text>\n</g>\n<!-- unkn&#45;&gt;falc -->\n<g id=\"edge69\" class=\"edge\">\n<title>unkn&#45;&gt;falc</title>\n<path fill=\"none\" stroke=\"grey\" stroke-dasharray=\"5,2\" d=\"M1136.03,-857.84C1271.23,-850.6 1616.51,-828.63 1724,-788.55 1748.5,-779.41 1771.71,-762.6 1790.51,-746.02\"/>\n<polygon fill=\"grey\" stroke=\"grey\" points=\"1792.67,-748.79 1797.71,-739.46 1787.96,-743.61 1792.67,-748.79\"/>\n<text text-anchor=\"middle\" x=\"1772.5\" y=\"-777.35\" font-family=\"Times New Roman,serif\" font-size=\"14.00\">468M $</text>\n</g>\n<!-- lido -->\n<g id=\"node37\" class=\"node\">\n<title>lido</title>\n<ellipse fill=\"#e63946\" stroke=\"#e63946\" cx=\"1961\" cy=\"-698.4\" rx=\"54\" ry=\"54\"/>\n<text text-anchor=\"middle\" x=\"1961\" y=\"-702.2\" font-family=\"Times New Roman,serif\" font-size=\"14.00\">Lido</text>\n<text text-anchor=\"middle\" x=\"1961\" y=\"-687.2\" font-family=\"Times New Roman,serif\" font-size=\"14.00\">21M $</text>\n</g>\n<!-- unkn&#45;&gt;lido -->\n<g id=\"edge74\" class=\"edge\">\n<title>unkn&#45;&gt;lido</title>\n<path fill=\"none\" stroke=\"grey\" stroke-dasharray=\"5,2\" d=\"M1136.05,-859.13C1257.05,-855.08 1554.79,-840.24 1798,-788.55 1843.78,-778.82 1857.46,-778.94 1898,-755.55 1903.61,-752.31 1909.16,-748.52 1914.51,-744.46\"/>\n<polygon fill=\"grey\" stroke=\"grey\" points=\"1916.49,-747.36 1922.1,-738.37 1912.11,-741.89 1916.49,-747.36\"/>\n<text text-anchor=\"middle\" x=\"1878.5\" y=\"-777.35\" font-family=\"Times New Roman,serif\" font-size=\"14.00\">21M $</text>\n</g>\n</g>\n</svg>\n",
      "text/plain": [
       "<graphviz.graphs.Digraph at 0x1962cedff70>"
      ]
     },
     "execution_count": 8,
     "metadata": {},
     "output_type": "execute_result"
    }
   ],
   "source": [
    "dot"
   ]
  }
 ],
 "metadata": {
  "kernelspec": {
   "display_name": "Python 3",
   "language": "python",
   "name": "python3"
  },
  "language_info": {
   "codemirror_mode": {
    "name": "ipython",
    "version": 3
   },
   "file_extension": ".py",
   "mimetype": "text/x-python",
   "name": "python",
   "nbconvert_exporter": "python",
   "pygments_lexer": "ipython3",
   "version": "3.9.6"
  },
  "orig_nbformat": 4,
  "vscode": {
   "interpreter": {
    "hash": "8a5edab282632443219e051e4ade2d1d5bbc671c781051bf1437897cbdfea0f1"
   }
  }
 },
 "nbformat": 4,
 "nbformat_minor": 2
}
